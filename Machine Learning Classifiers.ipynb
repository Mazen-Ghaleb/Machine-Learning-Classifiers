{
 "cells": [
  {
   "cell_type": "markdown",
   "id": "c26eacee",
   "metadata": {},
   "source": [
    "# Imports"
   ]
  },
  {
   "cell_type": "code",
   "execution_count": 1,
   "id": "d86bae19",
   "metadata": {},
   "outputs": [],
   "source": [
    "%matplotlib inline\n",
    "\n",
    "import util\n",
    "import numpy as np\n",
    "import zipfile\n",
    "import os\n",
    "import doctest\n",
    "import matplotlib.pyplot as plt\n",
    "import copy\n",
    "\n",
    "from sklearn.naive_bayes import GaussianNB\n",
    "from sklearn.neighbors import KNeighborsClassifier"
   ]
  },
  {
   "cell_type": "markdown",
   "id": "f2b507b0",
   "metadata": {},
   "source": [
    "# Constants"
   ]
  },
  {
   "cell_type": "code",
   "execution_count": 2,
   "id": "ae958e3d",
   "metadata": {},
   "outputs": [],
   "source": [
    "DATUM_WIDTH = 0 # in pixels\n",
    "DATUM_HEIGHT = 0 # in pixels"
   ]
  },
  {
   "cell_type": "markdown",
   "id": "a670e5f8",
   "metadata": {},
   "source": [
    "# Module Classes"
   ]
  },
  {
   "cell_type": "code",
   "execution_count": 3,
   "id": "70a43d44",
   "metadata": {},
   "outputs": [],
   "source": [
    "# A datum is a pixel-level encoding of digits or face/non-face edge maps.\n",
    "\n",
    "# Digits are from the MNIST dataset and face images are from the \n",
    "# easy-faces and background categories of the Caltech 101 dataset.\n",
    "\n",
    "\n",
    "# Each digit is 28x28 pixels, and each face/non-face image is 60x74 \n",
    "# pixels, each pixel can take the following values:\n",
    "# 0: no edge (blank)\n",
    "# 1: gray pixel (+) [used for digits only]\n",
    "# 2: edge [for face] or black pixel [for digit] (#)\n",
    "\n",
    "# Pixel data is stored in the 2-dimensional array pixels, which\n",
    "# maps to pixels on a plane according to standard euclidean axes\n",
    "# with the first dimension denoting the horizontal and the second\n",
    "# the vertical coordinate:\n",
    "\n",
    "# 28 # # # #      #  #\n",
    "# 27 # # # #      #  #\n",
    "#  .\n",
    "#  .\n",
    "#  .\n",
    "#  3 # # + #      #  #\n",
    "#  2 # # # #      #  #\n",
    "#  1 # # # #      #  #\n",
    "#  0 # # # #      #  #\n",
    "#    0 1 2 3 ... 27 28\n",
    "\n",
    "# For example, the + in the above diagram is stored in pixels[2][3], or\n",
    "# more generally pixels[column][row].\n",
    "\n",
    "# The contents of the representation can be accessed directly\n",
    "# via the getPixel and getPixels methods."
   ]
  },
  {
   "cell_type": "code",
   "execution_count": 4,
   "id": "b30fffe8",
   "metadata": {},
   "outputs": [],
   "source": [
    "class Datum:\n",
    "    # Create a new datum from file input (standard MNIST encoding).\n",
    "    def __init__(self, data, width, height):\n",
    "        DATUM_HEIGHT = height\n",
    "        DATUM_WIDTH= width\n",
    "        self.height = DATUM_HEIGHT\n",
    "        self.width = DATUM_WIDTH\n",
    "        if data == None:\n",
    "              data = [[' ' for i in range(DATUM_WIDTH)] for j in range(DATUM_HEIGHT)] \n",
    "        self.pixels = util.arrayInvert(convertToInteger(data)) \n",
    "\n",
    "    # Returns the value of the pixel at column, row as 0, or 1.\n",
    "    def getPixel(self, column, row):\n",
    "        return self.pixels[column][row]\n",
    "\n",
    "    # Returns all pixels as a list of lists.\n",
    "    def getPixels(self):\n",
    "        return self.pixels\n",
    "    \n",
    "    def setPixels(self, pixels):\n",
    "        self.pixels = pixels\n",
    "\n",
    "    # Renders the data item as an ascii image.\n",
    "    def getAsciiString(self):\n",
    "        rows = []\n",
    "        data = util.arrayInvert(self.pixels)\n",
    "        for row in data:\n",
    "            ascii = map(asciiGrayscaleConversionFunction, row)\n",
    "            rows.append( \"\".join(ascii))\n",
    "        return \"\\n\".join(rows)\n",
    "\n",
    "    def __str__(self):\n",
    "        return self.getAsciiString()"
   ]
  },
  {
   "cell_type": "markdown",
   "id": "8bed8128",
   "metadata": {},
   "source": [
    "# Data processing, cleanup and display functions"
   ]
  },
  {
   "cell_type": "code",
   "execution_count": 5,
   "id": "16a9d89a",
   "metadata": {},
   "outputs": [],
   "source": [
    "#   Reads n data images from a file and returns a list of Datum objects.\n",
    "#   (Return less then n items if the end of file is encountered).\n",
    "def loadDataFile(filename, n,width,height): \n",
    "    DATUM_WIDTH =width\n",
    "    DATUM_HEIGHT=height\n",
    "    fin = readlines(filename)\n",
    "    fin.reverse()\n",
    "    items = []\n",
    "    for i in range(n):\n",
    "        data = []\n",
    "        for j in range(height):\n",
    "            data.append(list(fin.pop()))\n",
    "        if len(data[0]) < DATUM_WIDTH-1:\n",
    "            # we encountered end of file...\n",
    "            print (\"Truncating at %d examples (maximum)\" % i)\n",
    "            break\n",
    "        items.append(Datum(data, DATUM_WIDTH, DATUM_HEIGHT))\n",
    "    return items"
   ]
  },
  {
   "cell_type": "code",
   "execution_count": 6,
   "id": "d4e5d136",
   "metadata": {},
   "outputs": [],
   "source": [
    "# Opens a file or reads it from the zip archive data.zip\n",
    "def readlines(filename):\n",
    "      if(os.path.exists(filename)): \n",
    "        return [l[:-1] for l in open(filename).readlines()]\n",
    "      else: \n",
    "        print(os.getcwd())\n",
    "        z = zipfile.ZipFile('./data.zip')\n",
    "        liste= z.read(filename).decode(\"utf-8\").split(\"\\n\")\n",
    "        print(len(liste))\n",
    "        return liste"
   ]
  },
  {
   "cell_type": "code",
   "execution_count": 7,
   "id": "28327f87",
   "metadata": {},
   "outputs": [],
   "source": [
    "#   Reads n labels from a file and returns a list of integers.\n",
    "def loadLabelsFile(filename, n):\n",
    "    fin = readlines(filename)\n",
    "    labels = []\n",
    "    for line in fin[:min(n, len(fin))]:\n",
    "        if line == '':\n",
    "            break\n",
    "        labels.append(int(line))\n",
    "    return labels"
   ]
  },
  {
   "cell_type": "code",
   "execution_count": 8,
   "id": "f8b567d3",
   "metadata": {},
   "outputs": [],
   "source": [
    "#   Helper function for display purposes.\n",
    "def asciiGrayscaleConversionFunction(value):\n",
    "    if(value == 0):\n",
    "        return ' '\n",
    "    elif(value == 1):\n",
    "        return '+'\n",
    "    elif(value == 2):\n",
    "        return '#'    "
   ]
  },
  {
   "cell_type": "code",
   "execution_count": 9,
   "id": "bc9d1778",
   "metadata": {},
   "outputs": [],
   "source": [
    "# #   Helper function for file reading.\n",
    "# def IntegerConversionFunction(character):\n",
    "#     if(character == ' '):\n",
    "#         return 0\n",
    "#     elif(character == '+'):\n",
    "#         return 1\n",
    "#     elif(character == '#'):\n",
    "#         return 2    "
   ]
  },
  {
   "cell_type": "code",
   "execution_count": 10,
   "id": "f7704bbc",
   "metadata": {},
   "outputs": [],
   "source": [
    "#   Helper function for file reading.\n",
    "def IntegerConversionFunction(character):\n",
    "    if(character == '+'):\n",
    "        return 1\n",
    "    elif(character == '#'):\n",
    "        return 2\n",
    "    else:\n",
    "        return 0"
   ]
  },
  {
   "cell_type": "code",
   "execution_count": 11,
   "id": "75339849",
   "metadata": {},
   "outputs": [],
   "source": [
    "#   Helper function for file reading.\n",
    "def convertToInteger(data):\n",
    "    if type(data) != type([]):\n",
    "        return IntegerConversionFunction(data)\n",
    "    else:\n",
    "        return list(map(convertToInteger, data))"
   ]
  },
  {
   "cell_type": "code",
   "execution_count": 12,
   "id": "25bf56c7",
   "metadata": {},
   "outputs": [],
   "source": [
    "def fixFaceDataset(items):\n",
    "    new_items = copy.deepcopy(items)\n",
    "    \n",
    "    list_zeros = [0] * 70\n",
    "    all_pixels = list()\n",
    "    \n",
    "    for i in range(len(new_items)):\n",
    "        all_pixels = items[i].pixels[0:60]\n",
    "        \n",
    "        for j in range(10):\n",
    "            all_pixels.append(list_zeros)\n",
    "            \n",
    "        new_items[i].setPixels(all_pixels)\n",
    "        \n",
    "    return new_items"
   ]
  },
  {
   "cell_type": "markdown",
   "id": "a4be1613",
   "metadata": {},
   "source": [
    "# Digit Dataset"
   ]
  },
  {
   "cell_type": "markdown",
   "id": "a3598dc2",
   "metadata": {},
   "source": [
    "## Training Dataset"
   ]
  },
  {
   "cell_type": "code",
   "execution_count": 13,
   "id": "9bfab7f5",
   "metadata": {},
   "outputs": [],
   "source": [
    "digit_training_amount = 5000\n",
    "digit_training_labels = loadLabelsFile(\"./data/digitdata/traininglabels\", digit_training_amount)\n",
    "digit_training_items = loadDataFile(\"./data/digitdata/trainingimages\", digit_training_amount,28,28)\n",
    "digit_training_features= np.array([np.array(item.getPixels()).flatten() for item in digit_training_items])"
   ]
  },
  {
   "cell_type": "markdown",
   "id": "adbabd58",
   "metadata": {},
   "source": [
    "## Validation Dataset"
   ]
  },
  {
   "cell_type": "code",
   "execution_count": 14,
   "id": "a570dba5",
   "metadata": {},
   "outputs": [],
   "source": [
    "digit_validation_amount = 1000\n",
    "digit_validation_labels = loadLabelsFile(\"./data/digitdata/validationlabels\", digit_validation_amount)\n",
    "digit_validation_items = loadDataFile(\"./data/digitdata/validationimages\", digit_validation_amount, 28, 28)\n",
    "digit_validation_features= np.array([np.array(item.getPixels()).flatten() for item in digit_validation_items])"
   ]
  },
  {
   "cell_type": "markdown",
   "id": "3207b97e",
   "metadata": {},
   "source": [
    "## Test Dataset"
   ]
  },
  {
   "cell_type": "code",
   "execution_count": 15,
   "id": "cd8b9eb1",
   "metadata": {},
   "outputs": [],
   "source": [
    "digit_test_amount = 1000\n",
    "digit_test_labels = loadLabelsFile(\"./data/digitdata/testlabels\", digit_test_amount)\n",
    "digit_test_items = loadDataFile(\"./data/digitdata/testimages\", digit_test_amount, 28, 28)\n",
    "digit_test_features= np.array([np.array(item.getPixels()).flatten() for item in digit_test_items])"
   ]
  },
  {
   "cell_type": "markdown",
   "id": "e5817209",
   "metadata": {},
   "source": [
    "# Face dataset"
   ]
  },
  {
   "cell_type": "markdown",
   "id": "0ff66717",
   "metadata": {},
   "source": [
    "## Training Dataset"
   ]
  },
  {
   "cell_type": "code",
   "execution_count": 16,
   "id": "d1d1e2fc",
   "metadata": {},
   "outputs": [],
   "source": [
    "face_training_amount = 451\n",
    "face_training_labels = loadLabelsFile(\"./data/facedata/facedatatrainlabels\", face_training_amount)\n",
    "face_training_items = fixFaceDataset(loadDataFile(\"./data/facedata/facedatatrain\", face_training_amount,60,70))\n",
    "face_training_features= np.array([np.array(item.getPixels()).flatten() for item in face_training_items])"
   ]
  },
  {
   "cell_type": "markdown",
   "id": "25710c98",
   "metadata": {},
   "source": [
    "## Validation Dataset"
   ]
  },
  {
   "cell_type": "code",
   "execution_count": 17,
   "id": "e7332731",
   "metadata": {},
   "outputs": [],
   "source": [
    "face_validation_amount = 301\n",
    "face_validation_labels = loadLabelsFile(\"./data/facedata/facedatavalidationlabels\", face_validation_amount)\n",
    "face_validation_items = fixFaceDataset(loadDataFile(\"./data/facedata/facedatavalidation\", face_validation_amount,60,70))\n",
    "face_validation_features= np.array([np.array(item.getPixels()).flatten() for item in face_validation_items])"
   ]
  },
  {
   "cell_type": "markdown",
   "id": "e7ec7c40",
   "metadata": {},
   "source": [
    "## Test Dataset"
   ]
  },
  {
   "cell_type": "code",
   "execution_count": 18,
   "id": "f35f30a3",
   "metadata": {},
   "outputs": [],
   "source": [
    "face_test_amount = 150\n",
    "face_test_labels = loadLabelsFile(\"./data/facedata/facedatatestlabels\", face_test_amount)\n",
    "face_test_items = fixFaceDataset(loadDataFile(\"./data/facedata/facedatatest\", face_test_amount,60,70))\n",
    "face_test_features= np.array([np.array(item.getPixels()).flatten() for item in face_test_items])"
   ]
  },
  {
   "cell_type": "markdown",
   "id": "58cf2515",
   "metadata": {},
   "source": [
    "# Naive Bayes Classifier"
   ]
  },
  {
   "cell_type": "code",
   "execution_count": 19,
   "id": "c28b42b8",
   "metadata": {},
   "outputs": [],
   "source": [
    "def predictNaiveBayes(model, data, labels, dataName):\n",
    "    \n",
    "    prediction = np.array([])\n",
    "    correct_prediction = 0\n",
    "\n",
    "    for i in range(len(data)):\n",
    "        \n",
    "        # Predict Output\n",
    "        predicted= model.predict([data[i]])[0]\n",
    "        np.append(prediction, predicted)\n",
    "        \n",
    "        if predicted == labels[i]:\n",
    "            correct_prediction += 1\n",
    "        \n",
    "    print (\"Accuracy of the Naive Bayes on the {}\".format(dataName),\n",
    "           \"dataset is {0:.2f} %\".format(correct_prediction*100/len(data)))\n",
    "    \n",
    "    return prediction"
   ]
  },
  {
   "cell_type": "markdown",
   "id": "bd8054bb",
   "metadata": {},
   "source": [
    "## Digit Dataset"
   ]
  },
  {
   "cell_type": "code",
   "execution_count": 20,
   "id": "d4defe7b",
   "metadata": {},
   "outputs": [
    {
     "name": "stdout",
     "output_type": "stream",
     "text": [
      "Accuracy of the Naive Bayes on the Training dataset is 60.50 %\n",
      "Accuracy of the Naive Bayes on the Validation dataset is 55.60 %\n",
      "Accuracy of the Naive Bayes on the Test dataset is 50.90 %\n"
     ]
    }
   ],
   "source": [
    "# Create a Gaussian Classifier\n",
    "digit_NB_model = GaussianNB()\n",
    "\n",
    "# Train the model using the training sets\n",
    "digit_NB_model.fit(digit_training_features, digit_training_labels)\n",
    "\n",
    "digit_training_prediction = predictNaiveBayes(digit_NB_model, digit_training_features, digit_training_labels, \"Training\")\n",
    "\n",
    "digit_validation_prediction = predictNaiveBayes(digit_NB_model, digit_validation_features, \n",
    "                                                digit_validation_labels, \"Validation\")\n",
    "\n",
    "digit_test_prediction = predictNaiveBayes(digit_NB_model, digit_test_features, digit_test_labels, \"Test\")"
   ]
  },
  {
   "cell_type": "markdown",
   "id": "58a58272",
   "metadata": {},
   "source": [
    "## Face Dataset"
   ]
  },
  {
   "cell_type": "code",
   "execution_count": 21,
   "id": "8f437082",
   "metadata": {},
   "outputs": [
    {
     "name": "stdout",
     "output_type": "stream",
     "text": [
      "Accuracy of the Naive Bayes on the Training dataset is 94.01 %\n",
      "Accuracy of the Naive Bayes on the Validation dataset is 84.72 %\n",
      "Accuracy of the Naive Bayes on the Test dataset is 94.12 %\n"
     ]
    }
   ],
   "source": [
    "# Create a Gaussian Classifier\n",
    "face_NB_model = GaussianNB()\n",
    "\n",
    "# Train the model using the training sets\n",
    "face_NB_model.fit(face_training_features, face_training_labels)\n",
    "\n",
    "face_training_prediction = predictNaiveBayes(face_NB_model, face_training_features, face_training_labels, \"Training\")\n",
    "face_validation_prediction = predictNaiveBayes(face_NB_model, face_validation_features, face_validation_labels, \"Validation\")\n",
    "face_test_prediction = predictNaiveBayes(face_NB_model, face_test_features[:17], face_test_labels, \"Test\")"
   ]
  },
  {
   "cell_type": "markdown",
   "id": "f4466830",
   "metadata": {},
   "source": [
    "# KNN (K Nearest Neighbors)"
   ]
  },
  {
   "cell_type": "code",
   "execution_count": 22,
   "id": "ce7a26eb",
   "metadata": {},
   "outputs": [],
   "source": [
    "def predictKNN(k,model, data, labels, dataName):\n",
    "    \n",
    "    prediction = np.array([])\n",
    "    correct_prediction = 0\n",
    "\n",
    "    for i in range(len(data)):\n",
    "        \n",
    "        # Predict Output\n",
    "        predicted= model.predict([data[i]])[0]\n",
    "        np.append(prediction, predicted)\n",
    "        \n",
    "        if predicted == labels[i]:\n",
    "            correct_prediction += 1\n",
    "        \n",
    "    accuracy = correct_prediction*100/len(data)    \n",
    "    print (\"Accuracy of KNN with k={} on the {}\".format(k, dataName),\n",
    "           \"dataset is {0:.2f} %\".format(accuracy))\n",
    "    \n",
    "    return prediction, accuracy"
   ]
  },
  {
   "cell_type": "markdown",
   "id": "2707c91f",
   "metadata": {},
   "source": [
    "## Digit dataset "
   ]
  },
  {
   "cell_type": "code",
   "execution_count": null,
   "id": "33614e81",
   "metadata": {},
   "outputs": [],
   "source": [
    "highestfull_k = 2\n",
    "highestfull_accuarcy = 0\n",
    "\n",
    "highest_k = 2\n",
    "highest_accuarcy = 0\n",
    "for k in range(2, digit_training_amount):\n",
    "    # Create a KNN Classifier\n",
    "    digit_KNN_model = KNeighborsClassifier(n_neighbors=k)\n",
    "\n",
    "    # Train the model using the training sets\n",
    "    digit_KNN_model.fit(digit_training_features, digit_training_labels)\n",
    "\n",
    "    digit_training_prediction, acc1 = predictKNN(k, digit_KNN_model, digit_training_features, digit_training_labels, \"Training\")\n",
    "    digit_validation_prediction, acc2 = predictKNN(k, digit_KNN_model, digit_validation_features, digit_validation_labels, \"Validation\")\n",
    "    digit_test_prediction, acc3 = predictKNN(k, digit_KNN_model, digit_test_features, digit_test_labels, \"Test\")\n",
    "    \n",
    "    if (highestfull_accuarcy < acc1+acc2+acc3):\n",
    "        highestfull_accuarcy = acc1+acc2+acc3\n",
    "        highestfull_k = k\n",
    "    \n",
    "    if (highest_accuarcy < acc2+acc3):\n",
    "        highest_accuarcy = acc2 + acc3\n",
    "        highest_k = k\n",
    "    \n",
    "    print (\"k={} with highest accuarcy of {}/200\".format(highest_k, highest_accuarcy))\n",
    "    print (\"k={} with Full accuarcy of {}/300\".format(highestfull_k, highestfull_accuarcy))\n",
    "\n",
    "    print(\"\\n \\n\")"
   ]
  },
  {
   "cell_type": "code",
   "execution_count": null,
   "id": "e1fe1f37",
   "metadata": {},
   "outputs": [],
   "source": [
    "k = 3\n",
    "# Create a KNN Classifier\n",
    "digit_KNN_model = KNeighborsClassifier(n_neighbors=k)\n",
    "\n",
    "# Train the model using the training sets\n",
    "digit_KNN_model.fit(digit_training_features, digit_training_labels)\n",
    "\n",
    "digit_training_prediction = predictKNN(k, digit_KNN_model, digit_training_features, digit_training_labels, \"Training\")[0]\n",
    "digit_validation_prediction = predictKNN(k, digit_KNN_model, digit_validation_features, digit_validation_labels, \"Validation\")[0]\n",
    "digit_test_prediction = predictKNN(k, digit_KNN_model, digit_test_features, digit_test_labels, \"Test\")[0]\n",
    "print(\"\\n \\n\")"
   ]
  },
  {
   "cell_type": "markdown",
   "id": "a2ea0475",
   "metadata": {},
   "source": [
    "## Face dataset"
   ]
  },
  {
   "cell_type": "code",
   "execution_count": null,
   "id": "152cbecf",
   "metadata": {},
   "outputs": [],
   "source": [
    "highestfull_k = 2\n",
    "highestfull_accuarcy = 0\n",
    "\n",
    "highest_k = 2\n",
    "highest_accuarcy = 0\n",
    "for k in range(2,face_training_amount):\n",
    "\n",
    "    # Create a KNN Classifier\n",
    "    face_KNN_model = KNeighborsClassifier(n_neighbors=k)\n",
    "\n",
    "    # Train the model using the training sets\n",
    "    face_KNN_model.fit(face_training_features, face_training_labels)\n",
    "\n",
    "    \n",
    "    face_training_prediction, acc1 = predictKNN(k, face_KNN_model, face_training_features, face_training_labels, \"Training\")\n",
    "    face_validation_prediction, acc2 = predictKNN(k, face_KNN_model, face_validation_features, face_validation_labels, \"Validation\")\n",
    "    face_test_prediction, acc3 = predictKNN(k, face_KNN_model, face_test_features, face_test_labels, \"Test\")\n",
    "    \n",
    "    if (highestfull_accuarcy < acc1+acc2+acc3):\n",
    "        highestfull_accuarcy = acc1+acc2+acc3\n",
    "        highestfull_k = k\n",
    "    \n",
    "    if (highest_accuarcy < acc2+acc3):\n",
    "        highest_accuarcy = acc2 + acc3\n",
    "        highest_k = k\n",
    "    \n",
    "    print (\"k={} with highest accuarcy of {}/200\".format(highest_k, highest_accuarcy))\n",
    "    print (\"k={} with Full accuarcy of {}/300\".format(highestfull_k, highestfull_accuarcy))\n",
    "\n",
    "    print(\"\\n \\n\")"
   ]
  },
  {
   "cell_type": "code",
   "execution_count": null,
   "id": "7d80397c",
   "metadata": {},
   "outputs": [],
   "source": [
    "k = 109\n",
    "\n",
    "# Create a KNN Classifier\n",
    "face_KNN_model = KNeighborsClassifier(n_neighbors=k)\n",
    "\n",
    "# Train the model using the training sets\n",
    "face_KNN_model.fit(face_training_features, face_training_labels)\n",
    "\n",
    "face_training_prediction = predictKNN(k, face_KNN_model, face_training_features, face_training_labels, \"Training\")[0]\n",
    "face_validation_prediction = predictKNN(k, face_KNN_model, face_validation_features, face_validation_labels, \"Validation\")[0]\n",
    "face_test_prediction = predictKNN(k, face_KNN_model, face_test_features, face_test_labels, \"Test\")[0]"
   ]
  },
  {
   "cell_type": "code",
   "execution_count": null,
   "id": "c7f0ef3e",
   "metadata": {},
   "outputs": [],
   "source": [
    "# n = 4\n",
    "# print(face_training_items[n])\n",
    "# print(len(face_training_items))\n",
    "\n",
    "# #Predict Output\n",
    "# predicted= face_NB_model.predict([face_training_features[n]])[0]\n",
    "# print (\"Predicted Value:\", predicted)"
   ]
  },
  {
   "cell_type": "code",
   "execution_count": null,
   "id": "0e02933e",
   "metadata": {},
   "outputs": [],
   "source": [
    "# n = 4\n",
    "# print(face_validation_items[n])\n",
    "# print(len(face_validation_items))\n",
    "\n",
    "# #Predict Output\n",
    "# predicted= face_NB_model.predict([face_validation_features[n]])[0]\n",
    "# print (\"Predicted Value:\", predicted)"
   ]
  },
  {
   "cell_type": "code",
   "execution_count": null,
   "id": "739364a4",
   "metadata": {},
   "outputs": [],
   "source": [
    "# n = 16\n",
    "# print(face_test_items[n])\n",
    "# print(len(face_test_items))\n",
    "\n",
    "# #Predict Output\n",
    "# predicted= face_NB_model.predict([face_test_features[n]])[0]\n",
    "# print (\"Predicted Value:\", predicted)"
   ]
  },
  {
   "cell_type": "code",
   "execution_count": null,
   "id": "d06773c8",
   "metadata": {},
   "outputs": [],
   "source": [
    "# n = 2\n",
    "# print(digit_training_items[n])\n",
    "# print(len(digit_training_items))\n",
    "\n",
    "# #Predict Output\n",
    "# predicted= digit_NB_model.predict([digit_training_features[n]])[0]\n",
    "# print (\"Predicted Value:\", predicted)"
   ]
  },
  {
   "cell_type": "code",
   "execution_count": null,
   "id": "3fbaf80f",
   "metadata": {},
   "outputs": [],
   "source": [
    "# n = 1\n",
    "# print(digit_validation_items[n])\n",
    "# print(len(digit_validation_items))\n",
    "\n",
    "# #Predict Output\n",
    "# predicted= digit_NB_model.predict([digit_validation_features[n]])[0]\n",
    "# print (\"Predicted Value:\", predicted)"
   ]
  },
  {
   "cell_type": "code",
   "execution_count": null,
   "id": "254a82f1",
   "metadata": {},
   "outputs": [],
   "source": [
    "# n = 4\n",
    "# print(digit_test_items[n])\n",
    "# print(len(digit_test_items))\n",
    "\n",
    "# # Predict Output\n",
    "# predicted= digit_NB_model.predict([digit_test_features[n]])[0]\n",
    "# print (\"Predicted Value:\", predicted)"
   ]
  },
  {
   "cell_type": "code",
   "execution_count": null,
   "id": "e95cdc08",
   "metadata": {},
   "outputs": [],
   "source": [
    "# pca_reduction = PCA(n_components=1)\n",
    "# pca_reduction.fit(training_features)\n",
    "# training_features_pca = pca_reduction.transform(training_features)\n",
    "# new_training_features = pca_reduction.inverse_transform(training_features_pca)\n",
    "# training_prediction = predictNaiveBayes(new_training_features, training_labels, \"Training\")"
   ]
  },
  {
   "cell_type": "code",
   "execution_count": null,
   "id": "78a7b530",
   "metadata": {
    "scrolled": true
   },
   "outputs": [],
   "source": [
    "# def _test():\n",
    "#     doctest.testmod() # Test the interactive sessions in function comments\n",
    "    \n",
    "#     n = 451 # face data limit\n",
    "#     items = fixFaceDataset(loadDataFile(\"./data/facedata/facedatatrain\", n,60,70))\n",
    "#     labels = loadLabelsFile(\"./data/facedata/facedatatrainlabels\", n)\n",
    "\n",
    "# #     n = 5000 # digit data limit\n",
    "# #     items = loadDataFile(\"./data/digitdata/trainingimages\", n,28,28)\n",
    "# #     labels = loadLabelsFile(\"./data/digitdata/traininglabels\", n)\n",
    "\n",
    "    \n",
    "# #     for i in range(1):\n",
    "# #         print (items[i].getAsciiString())\n",
    "# #         print (items[i])\n",
    "# #         print (items[i].height)\n",
    "# #         print (items[i].width)\n",
    "# #         print (dir(items[i]))\n",
    "# #         print ((items[i].getPixels()))\n",
    "# #         print (len(items[i].getPixels()))\n",
    "\n",
    "    \n",
    "# _test()"
   ]
  },
  {
   "cell_type": "code",
   "execution_count": null,
   "id": "2472a44d",
   "metadata": {},
   "outputs": [],
   "source": [
    "# def pca_feature(feature):\n",
    "# #     print(feature)\n",
    "#     pca_reduction = PCA(n_components=1)\n",
    "#     pca_reduction.fit(feature)\n",
    "#     feature_pca = pca_reduction.transform(feature)\n",
    "#     print(feature_pca.shape)\n",
    "# #     new_feature = pca_reduction.inverse_transform(feature_pca)\n",
    "# #     print(new_feature)\n",
    "#     return feature_pca"
   ]
  }
 ],
 "metadata": {
  "kernelspec": {
   "display_name": "Python 3 (ipykernel)",
   "language": "python",
   "name": "python3"
  },
  "language_info": {
   "codemirror_mode": {
    "name": "ipython",
    "version": 3
   },
   "file_extension": ".py",
   "mimetype": "text/x-python",
   "name": "python",
   "nbconvert_exporter": "python",
   "pygments_lexer": "ipython3",
   "version": "3.9.13"
  }
 },
 "nbformat": 4,
 "nbformat_minor": 5
}
