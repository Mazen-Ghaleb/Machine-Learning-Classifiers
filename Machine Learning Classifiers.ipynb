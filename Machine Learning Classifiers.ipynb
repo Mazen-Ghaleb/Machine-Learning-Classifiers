{
 "cells": [
  {
   "cell_type": "markdown",
   "id": "c26eacee",
   "metadata": {},
   "source": [
    "# Imports"
   ]
  },
  {
   "cell_type": "code",
   "execution_count": 1,
   "id": "d86bae19",
   "metadata": {},
   "outputs": [],
   "source": [
    "%matplotlib inline\n",
    "\n",
    "import util\n",
    "import numpy as np\n",
    "import zipfile\n",
    "import os\n",
    "import doctest\n",
    "import matplotlib.pyplot as plt\n",
    "import copy\n",
    "\n",
    "from sklearn.naive_bayes import GaussianNB\n",
    "from sklearn.neighbors import KNeighborsClassifier\n",
    "from sklearn.neural_network import MLPClassifier\n",
    "from sklearn.svm import SVC\n",
    "from sklearn.tree import DecisionTreeClassifier\n",
    "from sklearn.model_selection import GridSearchCV"
   ]
  },
  {
   "cell_type": "markdown",
   "id": "f2b507b0",
   "metadata": {},
   "source": [
    "# Constants"
   ]
  },
  {
   "cell_type": "code",
   "execution_count": 2,
   "id": "ae958e3d",
   "metadata": {},
   "outputs": [],
   "source": [
    "DATUM_WIDTH = 0 # in pixels\n",
    "DATUM_HEIGHT = 0 # in pixels"
   ]
  },
  {
   "cell_type": "markdown",
   "id": "a670e5f8",
   "metadata": {},
   "source": [
    "# Module Classes"
   ]
  },
  {
   "cell_type": "code",
   "execution_count": 3,
   "id": "70a43d44",
   "metadata": {},
   "outputs": [],
   "source": [
    "# A datum is a pixel-level encoding of digits or face/non-face edge maps.\n",
    "\n",
    "# Digits are from the MNIST dataset and face images are from the \n",
    "# easy-faces and background categories of the Caltech 101 dataset.\n",
    "\n",
    "\n",
    "# Each digit is 28x28 pixels, and each face/non-face image is 60x74 \n",
    "# pixels, each pixel can take the following values:\n",
    "# 0: no edge (blank)\n",
    "# 1: gray pixel (+) [used for digits only]\n",
    "# 2: edge [for face] or black pixel [for digit] (#)\n",
    "\n",
    "# Pixel data is stored in the 2-dimensional array pixels, which\n",
    "# maps to pixels on a plane according to standard euclidean axes\n",
    "# with the first dimension denoting the horizontal and the second\n",
    "# the vertical coordinate:\n",
    "\n",
    "# 28 # # # #      #  #\n",
    "# 27 # # # #      #  #\n",
    "#  .\n",
    "#  .\n",
    "#  .\n",
    "#  3 # # + #      #  #\n",
    "#  2 # # # #      #  #\n",
    "#  1 # # # #      #  #\n",
    "#  0 # # # #      #  #\n",
    "#    0 1 2 3 ... 27 28\n",
    "\n",
    "# For example, the + in the above diagram is stored in pixels[2][3], or\n",
    "# more generally pixels[column][row].\n",
    "\n",
    "# The contents of the representation can be accessed directly\n",
    "# via the getPixel and getPixels methods."
   ]
  },
  {
   "cell_type": "code",
   "execution_count": 4,
   "id": "b30fffe8",
   "metadata": {},
   "outputs": [],
   "source": [
    "class Datum:\n",
    "    # Create a new datum from file input (standard MNIST encoding).\n",
    "    def __init__(self, data, width, height):\n",
    "        DATUM_HEIGHT = height\n",
    "        DATUM_WIDTH= width\n",
    "        self.height = DATUM_HEIGHT\n",
    "        self.width = DATUM_WIDTH\n",
    "        if data == None:\n",
    "              data = [[' ' for i in range(DATUM_WIDTH)] for j in range(DATUM_HEIGHT)] \n",
    "        self.pixels = util.arrayInvert(convertToInteger(data)) \n",
    "\n",
    "    # Returns the value of the pixel at column, row as 0, or 1.\n",
    "    def getPixel(self, column, row):\n",
    "        return self.pixels[column][row]\n",
    "\n",
    "    # Returns all pixels as a list of lists.\n",
    "    def getPixels(self):\n",
    "        return self.pixels\n",
    "    \n",
    "    def setPixels(self, pixels):\n",
    "        self.pixels = pixels\n",
    "\n",
    "    # Renders the data item as an ascii image.\n",
    "    def getAsciiString(self):\n",
    "        rows = []\n",
    "        data = util.arrayInvert(self.pixels)\n",
    "        for row in data:\n",
    "            ascii = map(asciiGrayscaleConversionFunction, row)\n",
    "            rows.append( \"\".join(ascii))\n",
    "        return \"\\n\".join(rows)\n",
    "\n",
    "    def __str__(self):\n",
    "        return self.getAsciiString()"
   ]
  },
  {
   "cell_type": "markdown",
   "id": "8bed8128",
   "metadata": {},
   "source": [
    "# Data processing, cleanup and display functions"
   ]
  },
  {
   "cell_type": "code",
   "execution_count": 5,
   "id": "16a9d89a",
   "metadata": {},
   "outputs": [],
   "source": [
    "#   Reads n data images from a file and returns a list of Datum objects.\n",
    "#   (Return less then n items if the end of file is encountered).\n",
    "def loadDataFile(filename, n,width,height): \n",
    "    DATUM_WIDTH =width\n",
    "    DATUM_HEIGHT=height\n",
    "    fin = readlines(filename)\n",
    "    fin.reverse()\n",
    "    items = []\n",
    "    for i in range(n):\n",
    "        data = []\n",
    "        for j in range(height):\n",
    "            data.append(list(fin.pop()))\n",
    "        if len(data[0]) < DATUM_WIDTH-1:\n",
    "            # we encountered end of file...\n",
    "            print (\"Truncating at %d examples (maximum)\" % i)\n",
    "            break\n",
    "        items.append(Datum(data, DATUM_WIDTH, DATUM_HEIGHT))\n",
    "    return items"
   ]
  },
  {
   "cell_type": "code",
   "execution_count": 6,
   "id": "d4e5d136",
   "metadata": {},
   "outputs": [],
   "source": [
    "# Opens a file or reads it from the zip archive data.zip\n",
    "def readlines(filename):\n",
    "      if(os.path.exists(filename)): \n",
    "        return [l[:-1] for l in open(filename).readlines()]\n",
    "      else: \n",
    "        print(os.getcwd())\n",
    "        z = zipfile.ZipFile('./data.zip')\n",
    "        liste= z.read(filename).decode(\"utf-8\").split(\"\\n\")\n",
    "        print(len(liste))\n",
    "        return liste"
   ]
  },
  {
   "cell_type": "code",
   "execution_count": 7,
   "id": "28327f87",
   "metadata": {},
   "outputs": [],
   "source": [
    "#   Reads n labels from a file and returns a list of integers.\n",
    "def loadLabelsFile(filename, n):\n",
    "    fin = readlines(filename)\n",
    "    labels = []\n",
    "    for line in fin[:min(n, len(fin))]:\n",
    "        if line == '':\n",
    "            break\n",
    "        labels.append(int(line))\n",
    "    return labels"
   ]
  },
  {
   "cell_type": "code",
   "execution_count": 8,
   "id": "f8b567d3",
   "metadata": {},
   "outputs": [],
   "source": [
    "#   Helper function for display purposes.\n",
    "def asciiGrayscaleConversionFunction(value):\n",
    "    if(value == 0):\n",
    "        return ' '\n",
    "    elif(value == 1):\n",
    "        return '+'\n",
    "    elif(value == 2):\n",
    "        return '#'    "
   ]
  },
  {
   "cell_type": "code",
   "execution_count": 9,
   "id": "bc9d1778",
   "metadata": {},
   "outputs": [],
   "source": [
    "# #   Helper function for file reading.\n",
    "# def IntegerConversionFunction(character):\n",
    "#     if(character == ' '):\n",
    "#         return 0\n",
    "#     elif(character == '+'):\n",
    "#         return 1\n",
    "#     elif(character == '#'):\n",
    "#         return 2    "
   ]
  },
  {
   "cell_type": "code",
   "execution_count": 10,
   "id": "9791faaf",
   "metadata": {},
   "outputs": [],
   "source": [
    "#   Helper function for file reading.\n",
    "def IntegerConversionFunction(character):\n",
    "    if(character == '+'):\n",
    "        return 1\n",
    "    elif(character == '#'):\n",
    "        return 2\n",
    "    else:\n",
    "        return 0"
   ]
  },
  {
   "cell_type": "code",
   "execution_count": 11,
   "id": "75339849",
   "metadata": {},
   "outputs": [],
   "source": [
    "#   Helper function for file reading.\n",
    "def convertToInteger(data):\n",
    "    if type(data) != type([]):\n",
    "        return IntegerConversionFunction(data)\n",
    "    else:\n",
    "        return list(map(convertToInteger, data))"
   ]
  },
  {
   "cell_type": "code",
   "execution_count": 12,
   "id": "f1d4b0a8",
   "metadata": {},
   "outputs": [],
   "source": [
    "def fixFaceDataset(items):\n",
    "    new_items = copy.deepcopy(items)\n",
    "    \n",
    "    list_zeros = [0] * 70\n",
    "    all_pixels = list()\n",
    "    \n",
    "    for i in range(len(new_items)):\n",
    "        all_pixels = items[i].pixels[0:60]\n",
    "        \n",
    "        for j in range(10):\n",
    "            all_pixels.append(list_zeros)\n",
    "            \n",
    "        new_items[i].setPixels(all_pixels)\n",
    "        \n",
    "    return new_items"
   ]
  },
  {
   "cell_type": "code",
   "execution_count": 13,
   "id": "37475640",
   "metadata": {},
   "outputs": [],
   "source": [
    "def predictModel(model, data, labels, dataName, modelName):\n",
    "    \n",
    "    accuracy = model.score(data, labels) *100\n",
    "        \n",
    "    print (\"Accuracy of the {} on the {}\".format(modelName, dataName),\n",
    "           \"dataset is {0:.2f} %\".format(accuracy))\n",
    "    \n",
    "    return accuracy"
   ]
  },
  {
   "cell_type": "code",
   "execution_count": 14,
   "id": "f5b8cd0f",
   "metadata": {},
   "outputs": [],
   "source": [
    "def getModelPredictions(model, data, labels, dataName, modelName):\n",
    "    \n",
    "    prediction = np.array([])\n",
    "    correct_prediction = 0\n",
    "\n",
    "    for i in range(len(data)):\n",
    "        \n",
    "        # Predict Output\n",
    "        predicted= model.predict([data[i]])[0]\n",
    "        prediction = np.append(prediction, predicted)\n",
    "        \n",
    "        if predicted == labels[i]:\n",
    "            correct_prediction += 1\n",
    "    \n",
    "    accuracy = correct_prediction*100/len(data)\n",
    "    \n",
    "    print (\"Accuracy of the {} on the {}\".format(modelName, dataName),\n",
    "           \"dataset is {0:.2f} %\".format(accuracy))\n",
    "    \n",
    "    return prediction, accuracy"
   ]
  },
  {
   "cell_type": "markdown",
   "id": "a43947c7",
   "metadata": {},
   "source": [
    "# Digit Dataset"
   ]
  },
  {
   "cell_type": "markdown",
   "id": "155811a3",
   "metadata": {},
   "source": [
    "## Training Dataset"
   ]
  },
  {
   "cell_type": "code",
   "execution_count": 15,
   "id": "9bfab7f5",
   "metadata": {},
   "outputs": [],
   "source": [
    "digit_training_amount = 5000\n",
    "digit_training_labels = loadLabelsFile(\"./data/digitdata/traininglabels\", digit_training_amount)\n",
    "digit_training_items = loadDataFile(\"./data/digitdata/trainingimages\", digit_training_amount,28,28)\n",
    "digit_training_features= np.array([np.array(item.getPixels()).flatten() for item in digit_training_items])"
   ]
  },
  {
   "cell_type": "markdown",
   "id": "29180029",
   "metadata": {},
   "source": [
    "## Validation Dataset"
   ]
  },
  {
   "cell_type": "code",
   "execution_count": 16,
   "id": "8e65edd2",
   "metadata": {},
   "outputs": [],
   "source": [
    "digit_validation_amount = 1000\n",
    "digit_validation_labels = loadLabelsFile(\"./data/digitdata/validationlabels\", digit_validation_amount)\n",
    "digit_validation_items = loadDataFile(\"./data/digitdata/validationimages\", digit_validation_amount, 28, 28)\n",
    "digit_validation_features= np.array([np.array(item.getPixels()).flatten() for item in digit_validation_items])"
   ]
  },
  {
   "cell_type": "markdown",
   "id": "fec473a3",
   "metadata": {},
   "source": [
    "## Test Dataset"
   ]
  },
  {
   "cell_type": "code",
   "execution_count": 17,
   "id": "bea78030",
   "metadata": {},
   "outputs": [],
   "source": [
    "digit_test_amount = 1000\n",
    "digit_test_labels = loadLabelsFile(\"./data/digitdata/testlabels\", digit_test_amount)\n",
    "digit_test_items = loadDataFile(\"./data/digitdata/testimages\", digit_test_amount, 28, 28)\n",
    "digit_test_features= np.array([np.array(item.getPixels()).flatten() for item in digit_test_items])"
   ]
  },
  {
   "cell_type": "markdown",
   "id": "23fb69cc",
   "metadata": {},
   "source": [
    "# Face dataset"
   ]
  },
  {
   "cell_type": "markdown",
   "id": "b36b3b58",
   "metadata": {},
   "source": [
    "## Training Dataset"
   ]
  },
  {
   "cell_type": "code",
   "execution_count": 18,
   "id": "021d0614",
   "metadata": {},
   "outputs": [],
   "source": [
    "face_training_amount = 451\n",
    "face_training_labels = loadLabelsFile(\"./data/facedata/facedatatrainlabels\", face_training_amount)\n",
    "face_training_items = fixFaceDataset(loadDataFile(\"./data/facedata/facedatatrain\", face_training_amount,60,70))\n",
    "face_training_features= np.array([np.array(item.getPixels()).flatten() for item in face_training_items])"
   ]
  },
  {
   "cell_type": "markdown",
   "id": "556ded16",
   "metadata": {},
   "source": [
    "## Validation Dataset"
   ]
  },
  {
   "cell_type": "code",
   "execution_count": 19,
   "id": "4f950063",
   "metadata": {},
   "outputs": [],
   "source": [
    "face_validation_amount = 301\n",
    "face_validation_labels = loadLabelsFile(\"./data/facedata/facedatavalidationlabels\", face_validation_amount)\n",
    "face_validation_items = fixFaceDataset(loadDataFile(\"./data/facedata/facedatavalidation\", face_validation_amount,60,70))\n",
    "face_validation_features= np.array([np.array(item.getPixels()).flatten() for item in face_validation_items])"
   ]
  },
  {
   "cell_type": "markdown",
   "id": "88c9cb07",
   "metadata": {},
   "source": [
    "## Test Dataset"
   ]
  },
  {
   "cell_type": "code",
   "execution_count": 20,
   "id": "4ee10e38",
   "metadata": {},
   "outputs": [],
   "source": [
    "face_test_amount = 150\n",
    "face_test_labels = loadLabelsFile(\"./data/facedata/facedatatestlabels\", face_test_amount)\n",
    "face_test_items = fixFaceDataset(loadDataFile(\"./data/facedata/facedatatest\", face_test_amount,60,70))\n",
    "face_test_features= np.array([np.array(item.getPixels()).flatten() for item in face_test_items])"
   ]
  },
  {
   "cell_type": "markdown",
   "id": "58cf2515",
   "metadata": {},
   "source": [
    "# Naive Bayes (NB)"
   ]
  },
  {
   "cell_type": "markdown",
   "id": "18ff6c7a",
   "metadata": {},
   "source": [
    "## Digit Dataset"
   ]
  },
  {
   "cell_type": "code",
   "execution_count": 21,
   "id": "d4defe7b",
   "metadata": {},
   "outputs": [
    {
     "data": {
      "text/html": [
       "<style>#sk-container-id-1 {color: black;background-color: white;}#sk-container-id-1 pre{padding: 0;}#sk-container-id-1 div.sk-toggleable {background-color: white;}#sk-container-id-1 label.sk-toggleable__label {cursor: pointer;display: block;width: 100%;margin-bottom: 0;padding: 0.3em;box-sizing: border-box;text-align: center;}#sk-container-id-1 label.sk-toggleable__label-arrow:before {content: \"▸\";float: left;margin-right: 0.25em;color: #696969;}#sk-container-id-1 label.sk-toggleable__label-arrow:hover:before {color: black;}#sk-container-id-1 div.sk-estimator:hover label.sk-toggleable__label-arrow:before {color: black;}#sk-container-id-1 div.sk-toggleable__content {max-height: 0;max-width: 0;overflow: hidden;text-align: left;background-color: #f0f8ff;}#sk-container-id-1 div.sk-toggleable__content pre {margin: 0.2em;color: black;border-radius: 0.25em;background-color: #f0f8ff;}#sk-container-id-1 input.sk-toggleable__control:checked~div.sk-toggleable__content {max-height: 200px;max-width: 100%;overflow: auto;}#sk-container-id-1 input.sk-toggleable__control:checked~label.sk-toggleable__label-arrow:before {content: \"▾\";}#sk-container-id-1 div.sk-estimator input.sk-toggleable__control:checked~label.sk-toggleable__label {background-color: #d4ebff;}#sk-container-id-1 div.sk-label input.sk-toggleable__control:checked~label.sk-toggleable__label {background-color: #d4ebff;}#sk-container-id-1 input.sk-hidden--visually {border: 0;clip: rect(1px 1px 1px 1px);clip: rect(1px, 1px, 1px, 1px);height: 1px;margin: -1px;overflow: hidden;padding: 0;position: absolute;width: 1px;}#sk-container-id-1 div.sk-estimator {font-family: monospace;background-color: #f0f8ff;border: 1px dotted black;border-radius: 0.25em;box-sizing: border-box;margin-bottom: 0.5em;}#sk-container-id-1 div.sk-estimator:hover {background-color: #d4ebff;}#sk-container-id-1 div.sk-parallel-item::after {content: \"\";width: 100%;border-bottom: 1px solid gray;flex-grow: 1;}#sk-container-id-1 div.sk-label:hover label.sk-toggleable__label {background-color: #d4ebff;}#sk-container-id-1 div.sk-serial::before {content: \"\";position: absolute;border-left: 1px solid gray;box-sizing: border-box;top: 0;bottom: 0;left: 50%;z-index: 0;}#sk-container-id-1 div.sk-serial {display: flex;flex-direction: column;align-items: center;background-color: white;padding-right: 0.2em;padding-left: 0.2em;position: relative;}#sk-container-id-1 div.sk-item {position: relative;z-index: 1;}#sk-container-id-1 div.sk-parallel {display: flex;align-items: stretch;justify-content: center;background-color: white;position: relative;}#sk-container-id-1 div.sk-item::before, #sk-container-id-1 div.sk-parallel-item::before {content: \"\";position: absolute;border-left: 1px solid gray;box-sizing: border-box;top: 0;bottom: 0;left: 50%;z-index: -1;}#sk-container-id-1 div.sk-parallel-item {display: flex;flex-direction: column;z-index: 1;position: relative;background-color: white;}#sk-container-id-1 div.sk-parallel-item:first-child::after {align-self: flex-end;width: 50%;}#sk-container-id-1 div.sk-parallel-item:last-child::after {align-self: flex-start;width: 50%;}#sk-container-id-1 div.sk-parallel-item:only-child::after {width: 0;}#sk-container-id-1 div.sk-dashed-wrapped {border: 1px dashed gray;margin: 0 0.4em 0.5em 0.4em;box-sizing: border-box;padding-bottom: 0.4em;background-color: white;}#sk-container-id-1 div.sk-label label {font-family: monospace;font-weight: bold;display: inline-block;line-height: 1.2em;}#sk-container-id-1 div.sk-label-container {text-align: center;}#sk-container-id-1 div.sk-container {/* jupyter's `normalize.less` sets `[hidden] { display: none; }` but bootstrap.min.css set `[hidden] { display: none !important; }` so we also need the `!important` here to be able to override the default hidden behavior on the sphinx rendered scikit-learn.org. See: https://github.com/scikit-learn/scikit-learn/issues/21755 */display: inline-block !important;position: relative;}#sk-container-id-1 div.sk-text-repr-fallback {display: none;}</style><div id=\"sk-container-id-1\" class=\"sk-top-container\"><div class=\"sk-text-repr-fallback\"><pre>GaussianNB()</pre><b>In a Jupyter environment, please rerun this cell to show the HTML representation or trust the notebook. <br />On GitHub, the HTML representation is unable to render, please try loading this page with nbviewer.org.</b></div><div class=\"sk-container\" hidden><div class=\"sk-item\"><div class=\"sk-estimator sk-toggleable\"><input class=\"sk-toggleable__control sk-hidden--visually\" id=\"sk-estimator-id-1\" type=\"checkbox\" checked><label for=\"sk-estimator-id-1\" class=\"sk-toggleable__label sk-toggleable__label-arrow\">GaussianNB</label><div class=\"sk-toggleable__content\"><pre>GaussianNB()</pre></div></div></div></div></div>"
      ],
      "text/plain": [
       "GaussianNB()"
      ]
     },
     "execution_count": 21,
     "metadata": {},
     "output_type": "execute_result"
    }
   ],
   "source": [
    "# Create a Gaussian Classifier\n",
    "digit_NB_model = GaussianNB()\n",
    "\n",
    "# Train the model using the training sets\n",
    "digit_NB_model.fit(digit_training_features, digit_training_labels)"
   ]
  },
  {
   "cell_type": "code",
   "execution_count": 22,
   "id": "c847c8e4",
   "metadata": {},
   "outputs": [],
   "source": [
    "# digit_training_prediction = getModelPredictions(digit_NB_model, digit_training_features, digit_training_labels, \"Training\", \"Naive Bayes\")[0]\n",
    "\n",
    "# digit_validation_prediction = getModelPredictions(digit_NB_model, digit_validation_features, \n",
    "#                                                 digit_validation_labels, \"Validation\", \"Naive Bayes\")[0]\n",
    "\n",
    "# digit_test_prediction = getModelPredictions(digit_NB_model, digit_test_features, digit_test_labels, \"Test\", \"Naive Bayes\")[0]"
   ]
  },
  {
   "cell_type": "code",
   "execution_count": 23,
   "id": "fa628b03",
   "metadata": {},
   "outputs": [
    {
     "name": "stdout",
     "output_type": "stream",
     "text": [
      "Accuracy of the Naive Bayes on the Training dataset is 60.50 %\n",
      "Accuracy of the Naive Bayes on the Validation dataset is 55.60 %\n",
      "Accuracy of the Naive Bayes on the Test dataset is 50.90 %\n"
     ]
    },
    {
     "data": {
      "text/plain": [
       "50.9"
      ]
     },
     "execution_count": 23,
     "metadata": {},
     "output_type": "execute_result"
    }
   ],
   "source": [
    "predictModel(digit_NB_model, digit_training_features, digit_training_labels, \"Training\", \"Naive Bayes\")\n",
    "predictModel(digit_NB_model, digit_validation_features, digit_validation_labels, \"Validation\", \"Naive Bayes\")\n",
    "predictModel(digit_NB_model, digit_test_features, digit_test_labels, \"Test\", \"Naive Bayes\")"
   ]
  },
  {
   "cell_type": "markdown",
   "id": "912ec3da",
   "metadata": {},
   "source": [
    "## Face Dataset"
   ]
  },
  {
   "cell_type": "code",
   "execution_count": 24,
   "id": "ca4d75f1",
   "metadata": {},
   "outputs": [
    {
     "data": {
      "text/html": [
       "<style>#sk-container-id-2 {color: black;background-color: white;}#sk-container-id-2 pre{padding: 0;}#sk-container-id-2 div.sk-toggleable {background-color: white;}#sk-container-id-2 label.sk-toggleable__label {cursor: pointer;display: block;width: 100%;margin-bottom: 0;padding: 0.3em;box-sizing: border-box;text-align: center;}#sk-container-id-2 label.sk-toggleable__label-arrow:before {content: \"▸\";float: left;margin-right: 0.25em;color: #696969;}#sk-container-id-2 label.sk-toggleable__label-arrow:hover:before {color: black;}#sk-container-id-2 div.sk-estimator:hover label.sk-toggleable__label-arrow:before {color: black;}#sk-container-id-2 div.sk-toggleable__content {max-height: 0;max-width: 0;overflow: hidden;text-align: left;background-color: #f0f8ff;}#sk-container-id-2 div.sk-toggleable__content pre {margin: 0.2em;color: black;border-radius: 0.25em;background-color: #f0f8ff;}#sk-container-id-2 input.sk-toggleable__control:checked~div.sk-toggleable__content {max-height: 200px;max-width: 100%;overflow: auto;}#sk-container-id-2 input.sk-toggleable__control:checked~label.sk-toggleable__label-arrow:before {content: \"▾\";}#sk-container-id-2 div.sk-estimator input.sk-toggleable__control:checked~label.sk-toggleable__label {background-color: #d4ebff;}#sk-container-id-2 div.sk-label input.sk-toggleable__control:checked~label.sk-toggleable__label {background-color: #d4ebff;}#sk-container-id-2 input.sk-hidden--visually {border: 0;clip: rect(1px 1px 1px 1px);clip: rect(1px, 1px, 1px, 1px);height: 1px;margin: -1px;overflow: hidden;padding: 0;position: absolute;width: 1px;}#sk-container-id-2 div.sk-estimator {font-family: monospace;background-color: #f0f8ff;border: 1px dotted black;border-radius: 0.25em;box-sizing: border-box;margin-bottom: 0.5em;}#sk-container-id-2 div.sk-estimator:hover {background-color: #d4ebff;}#sk-container-id-2 div.sk-parallel-item::after {content: \"\";width: 100%;border-bottom: 1px solid gray;flex-grow: 1;}#sk-container-id-2 div.sk-label:hover label.sk-toggleable__label {background-color: #d4ebff;}#sk-container-id-2 div.sk-serial::before {content: \"\";position: absolute;border-left: 1px solid gray;box-sizing: border-box;top: 0;bottom: 0;left: 50%;z-index: 0;}#sk-container-id-2 div.sk-serial {display: flex;flex-direction: column;align-items: center;background-color: white;padding-right: 0.2em;padding-left: 0.2em;position: relative;}#sk-container-id-2 div.sk-item {position: relative;z-index: 1;}#sk-container-id-2 div.sk-parallel {display: flex;align-items: stretch;justify-content: center;background-color: white;position: relative;}#sk-container-id-2 div.sk-item::before, #sk-container-id-2 div.sk-parallel-item::before {content: \"\";position: absolute;border-left: 1px solid gray;box-sizing: border-box;top: 0;bottom: 0;left: 50%;z-index: -1;}#sk-container-id-2 div.sk-parallel-item {display: flex;flex-direction: column;z-index: 1;position: relative;background-color: white;}#sk-container-id-2 div.sk-parallel-item:first-child::after {align-self: flex-end;width: 50%;}#sk-container-id-2 div.sk-parallel-item:last-child::after {align-self: flex-start;width: 50%;}#sk-container-id-2 div.sk-parallel-item:only-child::after {width: 0;}#sk-container-id-2 div.sk-dashed-wrapped {border: 1px dashed gray;margin: 0 0.4em 0.5em 0.4em;box-sizing: border-box;padding-bottom: 0.4em;background-color: white;}#sk-container-id-2 div.sk-label label {font-family: monospace;font-weight: bold;display: inline-block;line-height: 1.2em;}#sk-container-id-2 div.sk-label-container {text-align: center;}#sk-container-id-2 div.sk-container {/* jupyter's `normalize.less` sets `[hidden] { display: none; }` but bootstrap.min.css set `[hidden] { display: none !important; }` so we also need the `!important` here to be able to override the default hidden behavior on the sphinx rendered scikit-learn.org. See: https://github.com/scikit-learn/scikit-learn/issues/21755 */display: inline-block !important;position: relative;}#sk-container-id-2 div.sk-text-repr-fallback {display: none;}</style><div id=\"sk-container-id-2\" class=\"sk-top-container\"><div class=\"sk-text-repr-fallback\"><pre>GaussianNB()</pre><b>In a Jupyter environment, please rerun this cell to show the HTML representation or trust the notebook. <br />On GitHub, the HTML representation is unable to render, please try loading this page with nbviewer.org.</b></div><div class=\"sk-container\" hidden><div class=\"sk-item\"><div class=\"sk-estimator sk-toggleable\"><input class=\"sk-toggleable__control sk-hidden--visually\" id=\"sk-estimator-id-2\" type=\"checkbox\" checked><label for=\"sk-estimator-id-2\" class=\"sk-toggleable__label sk-toggleable__label-arrow\">GaussianNB</label><div class=\"sk-toggleable__content\"><pre>GaussianNB()</pre></div></div></div></div></div>"
      ],
      "text/plain": [
       "GaussianNB()"
      ]
     },
     "execution_count": 24,
     "metadata": {},
     "output_type": "execute_result"
    }
   ],
   "source": [
    "# Create a Gaussian Classifier\n",
    "face_NB_model = GaussianNB()\n",
    "\n",
    "# Train the model using the training sets\n",
    "face_NB_model.fit(face_training_features, face_training_labels)"
   ]
  },
  {
   "cell_type": "code",
   "execution_count": 25,
   "id": "e9eb0f44",
   "metadata": {},
   "outputs": [],
   "source": [
    "# face_training_prediction = getModelPredictions(face_NB_model, face_training_features, face_training_labels,\n",
    "#                                                \"Training\", \"Naive Bayes\")\n",
    "# face_validation_prediction = getModelPredictions(face_NB_model, face_validation_features, face_validation_labels,\n",
    "#                                                  \"Validation\", \"Naive Bayes\")\n",
    "# face_test_prediction = getModelPredictions(face_NB_model, face_test_features, face_test_labels,\n",
    "#                                            \"Test\", \"Naive Bayes\")"
   ]
  },
  {
   "cell_type": "code",
   "execution_count": 26,
   "id": "9071266a",
   "metadata": {},
   "outputs": [
    {
     "name": "stdout",
     "output_type": "stream",
     "text": [
      "Accuracy of the Naive Bayes on the Training dataset is 94.01 %\n",
      "Accuracy of the Naive Bayes on the Validation dataset is 84.72 %\n",
      "Accuracy of the Naive Bayes on the Test dataset is 88.00 %\n"
     ]
    },
    {
     "data": {
      "text/plain": [
       "88.0"
      ]
     },
     "execution_count": 26,
     "metadata": {},
     "output_type": "execute_result"
    }
   ],
   "source": [
    "predictModel(face_NB_model, face_training_features, face_training_labels, \"Training\", \"Naive Bayes\")\n",
    "predictModel(face_NB_model, face_validation_features, face_validation_labels, \"Validation\", \"Naive Bayes\")\n",
    "predictModel(face_NB_model, face_test_features, face_test_labels, \"Test\", \"Naive Bayes\")"
   ]
  },
  {
   "cell_type": "markdown",
   "id": "8f5aef4e",
   "metadata": {},
   "source": [
    "# KNN (K Nearest Neighbors)"
   ]
  },
  {
   "cell_type": "code",
   "execution_count": 27,
   "id": "0a1354b3",
   "metadata": {},
   "outputs": [],
   "source": [
    "def predictKNN(k,model, data, labels, dataName):\n",
    "            \n",
    "    accuracy = model.score(data, labels) * 100\n",
    "    \n",
    "    print (\"Accuracy of KNN with k={} on the {}\".format(k, dataName),\n",
    "           \"dataset is {0:.2f} %\".format(accuracy))\n",
    "    \n",
    "    return accuracy"
   ]
  },
  {
   "cell_type": "code",
   "execution_count": 28,
   "id": "55c72e37",
   "metadata": {},
   "outputs": [],
   "source": [
    "def getPredictionsKNN(k,model, data, labels, dataName):\n",
    "    \n",
    "    prediction = np.array([])\n",
    "    correct_prediction = 0\n",
    "\n",
    "    for i in range(len(data)):\n",
    "        \n",
    "        # Predict Output\n",
    "        predicted= model.predict([data[i]])[0]\n",
    "        prediction = np.append(prediction, predicted)\n",
    "        \n",
    "        if predicted == labels[i]:\n",
    "            correct_prediction += 1\n",
    "        \n",
    "    accuracy = correct_prediction*100/len(data)    \n",
    "    \n",
    "    print (\"Accuracy of KNN with k={} on the {}\".format(k, dataName),\n",
    "           \"dataset is {0:.2f} %\".format(accuracy))\n",
    "    \n",
    "    return prediction, accuracy"
   ]
  },
  {
   "cell_type": "markdown",
   "id": "5275511a",
   "metadata": {},
   "source": [
    "## Digit dataset "
   ]
  },
  {
   "cell_type": "code",
   "execution_count": 29,
   "id": "e442127d",
   "metadata": {},
   "outputs": [],
   "source": [
    "# highestfull_k = 2\n",
    "# highestfull_accuarcy = 0\n",
    "\n",
    "# highest_k = 2\n",
    "# highest_accuarcy = 0\n",
    "# for k in range(2, digit_training_amount):\n",
    "#     # Create a KNN Classifier\n",
    "#     digit_KNN_model = KNeighborsClassifier(n_neighbors=k)\n",
    "\n",
    "#     # Train the model using the training sets\n",
    "#     digit_KNN_model.fit(digit_training_features, digit_training_labels)\n",
    "\n",
    "#     acc1 = predictKNN(k, digit_KNN_model, digit_training_features, digit_training_labels, \"Training\")\n",
    "#     acc2 = predictKNN(k, digit_KNN_model, digit_validation_features, digit_validation_labels, \"Validation\")\n",
    "#     acc3 = predictKNN(k, digit_KNN_model, digit_test_features, digit_test_labels, \"Test\")\n",
    "    \n",
    "#     if (highestfull_accuarcy < acc1+acc2+acc3):\n",
    "#         highestfull_accuarcy = acc1+acc2+acc3\n",
    "#         highestfull_k = k\n",
    "    \n",
    "#     if (highest_accuarcy < acc2+acc3):\n",
    "#         highest_accuarcy = acc2 + acc3\n",
    "#         highest_k = k\n",
    "    \n",
    "#     print (\"k={} with highest accuarcy of {}/200\".format(highest_k, highest_accuarcy))\n",
    "#     print (\"k={} with Full accuarcy of {}/300\".format(highestfull_k, highestfull_accuarcy))\n",
    "\n",
    "#     print(\"\\n \\n\")"
   ]
  },
  {
   "cell_type": "code",
   "execution_count": 30,
   "id": "500c45b0",
   "metadata": {},
   "outputs": [
    {
     "data": {
      "text/html": [
       "<style>#sk-container-id-3 {color: black;background-color: white;}#sk-container-id-3 pre{padding: 0;}#sk-container-id-3 div.sk-toggleable {background-color: white;}#sk-container-id-3 label.sk-toggleable__label {cursor: pointer;display: block;width: 100%;margin-bottom: 0;padding: 0.3em;box-sizing: border-box;text-align: center;}#sk-container-id-3 label.sk-toggleable__label-arrow:before {content: \"▸\";float: left;margin-right: 0.25em;color: #696969;}#sk-container-id-3 label.sk-toggleable__label-arrow:hover:before {color: black;}#sk-container-id-3 div.sk-estimator:hover label.sk-toggleable__label-arrow:before {color: black;}#sk-container-id-3 div.sk-toggleable__content {max-height: 0;max-width: 0;overflow: hidden;text-align: left;background-color: #f0f8ff;}#sk-container-id-3 div.sk-toggleable__content pre {margin: 0.2em;color: black;border-radius: 0.25em;background-color: #f0f8ff;}#sk-container-id-3 input.sk-toggleable__control:checked~div.sk-toggleable__content {max-height: 200px;max-width: 100%;overflow: auto;}#sk-container-id-3 input.sk-toggleable__control:checked~label.sk-toggleable__label-arrow:before {content: \"▾\";}#sk-container-id-3 div.sk-estimator input.sk-toggleable__control:checked~label.sk-toggleable__label {background-color: #d4ebff;}#sk-container-id-3 div.sk-label input.sk-toggleable__control:checked~label.sk-toggleable__label {background-color: #d4ebff;}#sk-container-id-3 input.sk-hidden--visually {border: 0;clip: rect(1px 1px 1px 1px);clip: rect(1px, 1px, 1px, 1px);height: 1px;margin: -1px;overflow: hidden;padding: 0;position: absolute;width: 1px;}#sk-container-id-3 div.sk-estimator {font-family: monospace;background-color: #f0f8ff;border: 1px dotted black;border-radius: 0.25em;box-sizing: border-box;margin-bottom: 0.5em;}#sk-container-id-3 div.sk-estimator:hover {background-color: #d4ebff;}#sk-container-id-3 div.sk-parallel-item::after {content: \"\";width: 100%;border-bottom: 1px solid gray;flex-grow: 1;}#sk-container-id-3 div.sk-label:hover label.sk-toggleable__label {background-color: #d4ebff;}#sk-container-id-3 div.sk-serial::before {content: \"\";position: absolute;border-left: 1px solid gray;box-sizing: border-box;top: 0;bottom: 0;left: 50%;z-index: 0;}#sk-container-id-3 div.sk-serial {display: flex;flex-direction: column;align-items: center;background-color: white;padding-right: 0.2em;padding-left: 0.2em;position: relative;}#sk-container-id-3 div.sk-item {position: relative;z-index: 1;}#sk-container-id-3 div.sk-parallel {display: flex;align-items: stretch;justify-content: center;background-color: white;position: relative;}#sk-container-id-3 div.sk-item::before, #sk-container-id-3 div.sk-parallel-item::before {content: \"\";position: absolute;border-left: 1px solid gray;box-sizing: border-box;top: 0;bottom: 0;left: 50%;z-index: -1;}#sk-container-id-3 div.sk-parallel-item {display: flex;flex-direction: column;z-index: 1;position: relative;background-color: white;}#sk-container-id-3 div.sk-parallel-item:first-child::after {align-self: flex-end;width: 50%;}#sk-container-id-3 div.sk-parallel-item:last-child::after {align-self: flex-start;width: 50%;}#sk-container-id-3 div.sk-parallel-item:only-child::after {width: 0;}#sk-container-id-3 div.sk-dashed-wrapped {border: 1px dashed gray;margin: 0 0.4em 0.5em 0.4em;box-sizing: border-box;padding-bottom: 0.4em;background-color: white;}#sk-container-id-3 div.sk-label label {font-family: monospace;font-weight: bold;display: inline-block;line-height: 1.2em;}#sk-container-id-3 div.sk-label-container {text-align: center;}#sk-container-id-3 div.sk-container {/* jupyter's `normalize.less` sets `[hidden] { display: none; }` but bootstrap.min.css set `[hidden] { display: none !important; }` so we also need the `!important` here to be able to override the default hidden behavior on the sphinx rendered scikit-learn.org. See: https://github.com/scikit-learn/scikit-learn/issues/21755 */display: inline-block !important;position: relative;}#sk-container-id-3 div.sk-text-repr-fallback {display: none;}</style><div id=\"sk-container-id-3\" class=\"sk-top-container\"><div class=\"sk-text-repr-fallback\"><pre>KNeighborsClassifier(n_neighbors=3)</pre><b>In a Jupyter environment, please rerun this cell to show the HTML representation or trust the notebook. <br />On GitHub, the HTML representation is unable to render, please try loading this page with nbviewer.org.</b></div><div class=\"sk-container\" hidden><div class=\"sk-item\"><div class=\"sk-estimator sk-toggleable\"><input class=\"sk-toggleable__control sk-hidden--visually\" id=\"sk-estimator-id-3\" type=\"checkbox\" checked><label for=\"sk-estimator-id-3\" class=\"sk-toggleable__label sk-toggleable__label-arrow\">KNeighborsClassifier</label><div class=\"sk-toggleable__content\"><pre>KNeighborsClassifier(n_neighbors=3)</pre></div></div></div></div></div>"
      ],
      "text/plain": [
       "KNeighborsClassifier(n_neighbors=3)"
      ]
     },
     "execution_count": 30,
     "metadata": {},
     "output_type": "execute_result"
    }
   ],
   "source": [
    "k = 3\n",
    "# Create a KNN Classifier\n",
    "digit_KNN_model = KNeighborsClassifier(n_neighbors=k)\n",
    "\n",
    "# Train the model using the training sets\n",
    "digit_KNN_model.fit(digit_training_features, digit_training_labels)"
   ]
  },
  {
   "cell_type": "code",
   "execution_count": 31,
   "id": "21a886fb",
   "metadata": {},
   "outputs": [],
   "source": [
    "# digit_training_prediction = getPredictionsKNN(k, digit_KNN_model, digit_training_features, digit_training_labels, \"Training\")[0]\n",
    "# digit_validation_prediction = getPredictionsKNN(k, digit_KNN_model, digit_validation_features, digit_validation_labels, \"Validation\")[0]\n",
    "# digit_test_prediction = getPredictionsKNN(k, digit_KNN_model, digit_test_features, digit_test_labels, \"Test\")[0]"
   ]
  },
  {
   "cell_type": "code",
   "execution_count": 32,
   "id": "3ff5c79f",
   "metadata": {},
   "outputs": [
    {
     "name": "stdout",
     "output_type": "stream",
     "text": [
      "Accuracy of KNN with k=3 on the Training dataset is 97.52 %\n",
      "Accuracy of KNN with k=3 on the Validation dataset is 91.40 %\n",
      "Accuracy of KNN with k=3 on the Test dataset is 89.80 %\n"
     ]
    },
    {
     "data": {
      "text/plain": [
       "89.8"
      ]
     },
     "execution_count": 32,
     "metadata": {},
     "output_type": "execute_result"
    }
   ],
   "source": [
    "predictKNN(k, digit_KNN_model, digit_training_features, digit_training_labels, \"Training\")\n",
    "predictKNN(k, digit_KNN_model, digit_validation_features, digit_validation_labels, \"Validation\")\n",
    "predictKNN(k, digit_KNN_model, digit_test_features, digit_test_labels, \"Test\")"
   ]
  },
  {
   "cell_type": "markdown",
   "id": "2f8df02a",
   "metadata": {},
   "source": [
    "## Face dataset"
   ]
  },
  {
   "cell_type": "code",
   "execution_count": 33,
   "id": "d5590ac5",
   "metadata": {},
   "outputs": [],
   "source": [
    "# highestfull_k = 2\n",
    "# highestfull_accuarcy = 0\n",
    "\n",
    "# highest_k = 2\n",
    "# highest_accuarcy = 0\n",
    "# for k in range(2,face_training_amount):\n",
    "\n",
    "#     # Create a KNN Classifier\n",
    "#     face_KNN_model = KNeighborsClassifier(n_neighbors=k)\n",
    "\n",
    "#     # Train the model using the training sets\n",
    "#     face_KNN_model.fit(face_training_features, face_training_labels)\n",
    "\n",
    "    \n",
    "#     acc1 = predictKNN(k, face_KNN_model, face_training_features, face_training_labels, \"Training\")\n",
    "#     acc2 = predictKNN(k, face_KNN_model, face_validation_features, face_validation_labels, \"Validation\")\n",
    "#     acc3 = predictKNN(k, face_KNN_model, face_test_features, face_test_labels, \"Test\")\n",
    "    \n",
    "#     if (highestfull_accuarcy < acc1+acc2+acc3):\n",
    "#         highestfull_accuarcy = acc1+acc2+acc3\n",
    "#         highestfull_k = k\n",
    "    \n",
    "#     if (highest_accuarcy < acc2+acc3):\n",
    "#         highest_accuarcy = acc2 + acc3\n",
    "#         highest_k = k\n",
    "    \n",
    "#     print (\"k={} with highest accuarcy of {}/200\".format(highest_k, highest_accuarcy))\n",
    "#     print (\"k={} with Full accuarcy of {}/300\".format(highestfull_k, highestfull_accuarcy))\n",
    "\n",
    "#     print(\"\\n \\n\")"
   ]
  },
  {
   "cell_type": "code",
   "execution_count": 34,
   "id": "82f0f48d",
   "metadata": {},
   "outputs": [
    {
     "data": {
      "text/html": [
       "<style>#sk-container-id-4 {color: black;background-color: white;}#sk-container-id-4 pre{padding: 0;}#sk-container-id-4 div.sk-toggleable {background-color: white;}#sk-container-id-4 label.sk-toggleable__label {cursor: pointer;display: block;width: 100%;margin-bottom: 0;padding: 0.3em;box-sizing: border-box;text-align: center;}#sk-container-id-4 label.sk-toggleable__label-arrow:before {content: \"▸\";float: left;margin-right: 0.25em;color: #696969;}#sk-container-id-4 label.sk-toggleable__label-arrow:hover:before {color: black;}#sk-container-id-4 div.sk-estimator:hover label.sk-toggleable__label-arrow:before {color: black;}#sk-container-id-4 div.sk-toggleable__content {max-height: 0;max-width: 0;overflow: hidden;text-align: left;background-color: #f0f8ff;}#sk-container-id-4 div.sk-toggleable__content pre {margin: 0.2em;color: black;border-radius: 0.25em;background-color: #f0f8ff;}#sk-container-id-4 input.sk-toggleable__control:checked~div.sk-toggleable__content {max-height: 200px;max-width: 100%;overflow: auto;}#sk-container-id-4 input.sk-toggleable__control:checked~label.sk-toggleable__label-arrow:before {content: \"▾\";}#sk-container-id-4 div.sk-estimator input.sk-toggleable__control:checked~label.sk-toggleable__label {background-color: #d4ebff;}#sk-container-id-4 div.sk-label input.sk-toggleable__control:checked~label.sk-toggleable__label {background-color: #d4ebff;}#sk-container-id-4 input.sk-hidden--visually {border: 0;clip: rect(1px 1px 1px 1px);clip: rect(1px, 1px, 1px, 1px);height: 1px;margin: -1px;overflow: hidden;padding: 0;position: absolute;width: 1px;}#sk-container-id-4 div.sk-estimator {font-family: monospace;background-color: #f0f8ff;border: 1px dotted black;border-radius: 0.25em;box-sizing: border-box;margin-bottom: 0.5em;}#sk-container-id-4 div.sk-estimator:hover {background-color: #d4ebff;}#sk-container-id-4 div.sk-parallel-item::after {content: \"\";width: 100%;border-bottom: 1px solid gray;flex-grow: 1;}#sk-container-id-4 div.sk-label:hover label.sk-toggleable__label {background-color: #d4ebff;}#sk-container-id-4 div.sk-serial::before {content: \"\";position: absolute;border-left: 1px solid gray;box-sizing: border-box;top: 0;bottom: 0;left: 50%;z-index: 0;}#sk-container-id-4 div.sk-serial {display: flex;flex-direction: column;align-items: center;background-color: white;padding-right: 0.2em;padding-left: 0.2em;position: relative;}#sk-container-id-4 div.sk-item {position: relative;z-index: 1;}#sk-container-id-4 div.sk-parallel {display: flex;align-items: stretch;justify-content: center;background-color: white;position: relative;}#sk-container-id-4 div.sk-item::before, #sk-container-id-4 div.sk-parallel-item::before {content: \"\";position: absolute;border-left: 1px solid gray;box-sizing: border-box;top: 0;bottom: 0;left: 50%;z-index: -1;}#sk-container-id-4 div.sk-parallel-item {display: flex;flex-direction: column;z-index: 1;position: relative;background-color: white;}#sk-container-id-4 div.sk-parallel-item:first-child::after {align-self: flex-end;width: 50%;}#sk-container-id-4 div.sk-parallel-item:last-child::after {align-self: flex-start;width: 50%;}#sk-container-id-4 div.sk-parallel-item:only-child::after {width: 0;}#sk-container-id-4 div.sk-dashed-wrapped {border: 1px dashed gray;margin: 0 0.4em 0.5em 0.4em;box-sizing: border-box;padding-bottom: 0.4em;background-color: white;}#sk-container-id-4 div.sk-label label {font-family: monospace;font-weight: bold;display: inline-block;line-height: 1.2em;}#sk-container-id-4 div.sk-label-container {text-align: center;}#sk-container-id-4 div.sk-container {/* jupyter's `normalize.less` sets `[hidden] { display: none; }` but bootstrap.min.css set `[hidden] { display: none !important; }` so we also need the `!important` here to be able to override the default hidden behavior on the sphinx rendered scikit-learn.org. See: https://github.com/scikit-learn/scikit-learn/issues/21755 */display: inline-block !important;position: relative;}#sk-container-id-4 div.sk-text-repr-fallback {display: none;}</style><div id=\"sk-container-id-4\" class=\"sk-top-container\"><div class=\"sk-text-repr-fallback\"><pre>KNeighborsClassifier(n_neighbors=109)</pre><b>In a Jupyter environment, please rerun this cell to show the HTML representation or trust the notebook. <br />On GitHub, the HTML representation is unable to render, please try loading this page with nbviewer.org.</b></div><div class=\"sk-container\" hidden><div class=\"sk-item\"><div class=\"sk-estimator sk-toggleable\"><input class=\"sk-toggleable__control sk-hidden--visually\" id=\"sk-estimator-id-4\" type=\"checkbox\" checked><label for=\"sk-estimator-id-4\" class=\"sk-toggleable__label sk-toggleable__label-arrow\">KNeighborsClassifier</label><div class=\"sk-toggleable__content\"><pre>KNeighborsClassifier(n_neighbors=109)</pre></div></div></div></div></div>"
      ],
      "text/plain": [
       "KNeighborsClassifier(n_neighbors=109)"
      ]
     },
     "execution_count": 34,
     "metadata": {},
     "output_type": "execute_result"
    }
   ],
   "source": [
    "k = 109\n",
    "\n",
    "# Create a KNN Classifier\n",
    "face_KNN_model = KNeighborsClassifier(n_neighbors=k)\n",
    "\n",
    "# Train the model using the training sets\n",
    "face_KNN_model.fit(face_training_features, face_training_labels)"
   ]
  },
  {
   "cell_type": "code",
   "execution_count": 35,
   "id": "a50b7232",
   "metadata": {},
   "outputs": [],
   "source": [
    "# face_training_prediction = getPredictionsKNN(k, face_KNN_model, face_training_features, face_training_labels, \"Training\")[0]\n",
    "# face_validation_prediction = getPredictionsKNN(k, face_KNN_model, face_validation_features, face_validation_labels, \"Validation\")[0]\n",
    "# face_test_prediction = getPredictionsKNN(k, face_KNN_model, face_test_features, face_test_labels, \"Test\")[0]"
   ]
  },
  {
   "cell_type": "code",
   "execution_count": 36,
   "id": "7e5d0038",
   "metadata": {},
   "outputs": [
    {
     "name": "stdout",
     "output_type": "stream",
     "text": [
      "Accuracy of KNN with k=109 on the Training dataset is 84.92 %\n",
      "Accuracy of KNN with k=109 on the Validation dataset is 81.40 %\n",
      "Accuracy of KNN with k=109 on the Test dataset is 82.67 %\n"
     ]
    },
    {
     "data": {
      "text/plain": [
       "82.66666666666667"
      ]
     },
     "execution_count": 36,
     "metadata": {},
     "output_type": "execute_result"
    }
   ],
   "source": [
    "predictKNN(k, face_KNN_model, face_training_features, face_training_labels, \"Training\")\n",
    "predictKNN(k, face_KNN_model, face_validation_features, face_validation_labels, \"Validation\")\n",
    "predictKNN(k, face_KNN_model, face_test_features, face_test_labels, \"Test\")"
   ]
  },
  {
   "cell_type": "markdown",
   "id": "71ae64b7",
   "metadata": {},
   "source": [
    "# Multilayer perceptron (MLP)"
   ]
  },
  {
   "cell_type": "code",
   "execution_count": 37,
   "id": "b9228f7f",
   "metadata": {},
   "outputs": [],
   "source": [
    "def predictMLP(model, data, labels, dataName):\n",
    "    \n",
    "    accuracy = model.score(data, labels) *100\n",
    "    \n",
    "    print (\"Accuracy of MLP on the {}\".format(dataName),\n",
    "           \"dataset is {0:.2f} %\".format(accuracy))\n",
    "    \n",
    "    return accuracy"
   ]
  },
  {
   "cell_type": "code",
   "execution_count": 38,
   "id": "dacbc430",
   "metadata": {},
   "outputs": [],
   "source": [
    "def getPredictionsMLP(model, data, labels, dataName):\n",
    "    \n",
    "    prediction = np.array([])\n",
    "    correct_prediction = 0\n",
    "\n",
    "    for i in range(len(data)):\n",
    "        \n",
    "        # Predict Output\n",
    "        predicted = model.predict([data[i]])[0]\n",
    "        prediction = np.append(prediction, predicted)\n",
    "        \n",
    "        if predicted == labels[i]:\n",
    "            correct_prediction += 1\n",
    "        \n",
    "    accuracy = correct_prediction*100/len(data)    \n",
    "    \n",
    "    print (\"Accuracy of MLP on the {}\".format(dataName),\n",
    "           \"dataset is {0:.2f} %\".format(accuracy))\n",
    "    \n",
    "    return  prediction, accuracy"
   ]
  },
  {
   "cell_type": "markdown",
   "id": "2d497186",
   "metadata": {},
   "source": [
    "## Digit dataset"
   ]
  },
  {
   "cell_type": "code",
   "execution_count": 39,
   "id": "020637bf",
   "metadata": {},
   "outputs": [
    {
     "name": "stdout",
     "output_type": "stream",
     "text": [
      "Iteration 1, loss = 0.74036384\n",
      "Iteration 2, loss = 0.21768926\n",
      "Iteration 3, loss = 0.13165975\n",
      "Iteration 4, loss = 0.08354227\n",
      "Iteration 5, loss = 0.05691779\n",
      "Iteration 6, loss = 0.03797812\n",
      "Iteration 7, loss = 0.02407969\n",
      "Iteration 8, loss = 0.01730209\n",
      "Iteration 9, loss = 0.01217340\n",
      "Iteration 10, loss = 0.00826997\n",
      "Iteration 11, loss = 0.00699410\n",
      "Iteration 12, loss = 0.00552887\n",
      "Iteration 13, loss = 0.00472022\n",
      "Iteration 14, loss = 0.00413585\n",
      "Iteration 15, loss = 0.00366910\n",
      "Iteration 16, loss = 0.00334101\n",
      "Iteration 17, loss = 0.00298408\n",
      "Iteration 18, loss = 0.00276163\n",
      "Iteration 19, loss = 0.00256634\n",
      "Iteration 20, loss = 0.00238440\n",
      "Iteration 21, loss = 0.00227683\n",
      "Iteration 22, loss = 0.00207258\n",
      "Iteration 23, loss = 0.00197036\n",
      "Iteration 24, loss = 0.00187003\n",
      "Iteration 25, loss = 0.00177867\n",
      "Iteration 26, loss = 0.00167135\n",
      "Iteration 27, loss = 0.00161868\n",
      "Iteration 28, loss = 0.00152885\n",
      "Iteration 29, loss = 0.00146004\n",
      "Iteration 30, loss = 0.00140760\n",
      "Iteration 31, loss = 0.00135502\n",
      "Iteration 32, loss = 0.00130263\n",
      "Iteration 33, loss = 0.00124693\n",
      "Iteration 34, loss = 0.00120776\n",
      "Iteration 35, loss = 0.00117685\n",
      "Iteration 36, loss = 0.00112791\n",
      "Iteration 37, loss = 0.00110060\n",
      "Training loss did not improve more than tol=0.000100 for 10 consecutive epochs. Stopping.\n"
     ]
    },
    {
     "data": {
      "text/html": [
       "<style>#sk-container-id-5 {color: black;background-color: white;}#sk-container-id-5 pre{padding: 0;}#sk-container-id-5 div.sk-toggleable {background-color: white;}#sk-container-id-5 label.sk-toggleable__label {cursor: pointer;display: block;width: 100%;margin-bottom: 0;padding: 0.3em;box-sizing: border-box;text-align: center;}#sk-container-id-5 label.sk-toggleable__label-arrow:before {content: \"▸\";float: left;margin-right: 0.25em;color: #696969;}#sk-container-id-5 label.sk-toggleable__label-arrow:hover:before {color: black;}#sk-container-id-5 div.sk-estimator:hover label.sk-toggleable__label-arrow:before {color: black;}#sk-container-id-5 div.sk-toggleable__content {max-height: 0;max-width: 0;overflow: hidden;text-align: left;background-color: #f0f8ff;}#sk-container-id-5 div.sk-toggleable__content pre {margin: 0.2em;color: black;border-radius: 0.25em;background-color: #f0f8ff;}#sk-container-id-5 input.sk-toggleable__control:checked~div.sk-toggleable__content {max-height: 200px;max-width: 100%;overflow: auto;}#sk-container-id-5 input.sk-toggleable__control:checked~label.sk-toggleable__label-arrow:before {content: \"▾\";}#sk-container-id-5 div.sk-estimator input.sk-toggleable__control:checked~label.sk-toggleable__label {background-color: #d4ebff;}#sk-container-id-5 div.sk-label input.sk-toggleable__control:checked~label.sk-toggleable__label {background-color: #d4ebff;}#sk-container-id-5 input.sk-hidden--visually {border: 0;clip: rect(1px 1px 1px 1px);clip: rect(1px, 1px, 1px, 1px);height: 1px;margin: -1px;overflow: hidden;padding: 0;position: absolute;width: 1px;}#sk-container-id-5 div.sk-estimator {font-family: monospace;background-color: #f0f8ff;border: 1px dotted black;border-radius: 0.25em;box-sizing: border-box;margin-bottom: 0.5em;}#sk-container-id-5 div.sk-estimator:hover {background-color: #d4ebff;}#sk-container-id-5 div.sk-parallel-item::after {content: \"\";width: 100%;border-bottom: 1px solid gray;flex-grow: 1;}#sk-container-id-5 div.sk-label:hover label.sk-toggleable__label {background-color: #d4ebff;}#sk-container-id-5 div.sk-serial::before {content: \"\";position: absolute;border-left: 1px solid gray;box-sizing: border-box;top: 0;bottom: 0;left: 50%;z-index: 0;}#sk-container-id-5 div.sk-serial {display: flex;flex-direction: column;align-items: center;background-color: white;padding-right: 0.2em;padding-left: 0.2em;position: relative;}#sk-container-id-5 div.sk-item {position: relative;z-index: 1;}#sk-container-id-5 div.sk-parallel {display: flex;align-items: stretch;justify-content: center;background-color: white;position: relative;}#sk-container-id-5 div.sk-item::before, #sk-container-id-5 div.sk-parallel-item::before {content: \"\";position: absolute;border-left: 1px solid gray;box-sizing: border-box;top: 0;bottom: 0;left: 50%;z-index: -1;}#sk-container-id-5 div.sk-parallel-item {display: flex;flex-direction: column;z-index: 1;position: relative;background-color: white;}#sk-container-id-5 div.sk-parallel-item:first-child::after {align-self: flex-end;width: 50%;}#sk-container-id-5 div.sk-parallel-item:last-child::after {align-self: flex-start;width: 50%;}#sk-container-id-5 div.sk-parallel-item:only-child::after {width: 0;}#sk-container-id-5 div.sk-dashed-wrapped {border: 1px dashed gray;margin: 0 0.4em 0.5em 0.4em;box-sizing: border-box;padding-bottom: 0.4em;background-color: white;}#sk-container-id-5 div.sk-label label {font-family: monospace;font-weight: bold;display: inline-block;line-height: 1.2em;}#sk-container-id-5 div.sk-label-container {text-align: center;}#sk-container-id-5 div.sk-container {/* jupyter's `normalize.less` sets `[hidden] { display: none; }` but bootstrap.min.css set `[hidden] { display: none !important; }` so we also need the `!important` here to be able to override the default hidden behavior on the sphinx rendered scikit-learn.org. See: https://github.com/scikit-learn/scikit-learn/issues/21755 */display: inline-block !important;position: relative;}#sk-container-id-5 div.sk-text-repr-fallback {display: none;}</style><div id=\"sk-container-id-5\" class=\"sk-top-container\"><div class=\"sk-text-repr-fallback\"><pre>MLPClassifier(learning_rate_init=0.1275, max_iter=40, random_state=0,\n",
       "              solver=&#x27;sgd&#x27;, verbose=10)</pre><b>In a Jupyter environment, please rerun this cell to show the HTML representation or trust the notebook. <br />On GitHub, the HTML representation is unable to render, please try loading this page with nbviewer.org.</b></div><div class=\"sk-container\" hidden><div class=\"sk-item\"><div class=\"sk-estimator sk-toggleable\"><input class=\"sk-toggleable__control sk-hidden--visually\" id=\"sk-estimator-id-5\" type=\"checkbox\" checked><label for=\"sk-estimator-id-5\" class=\"sk-toggleable__label sk-toggleable__label-arrow\">MLPClassifier</label><div class=\"sk-toggleable__content\"><pre>MLPClassifier(learning_rate_init=0.1275, max_iter=40, random_state=0,\n",
       "              solver=&#x27;sgd&#x27;, verbose=10)</pre></div></div></div></div></div>"
      ],
      "text/plain": [
       "MLPClassifier(learning_rate_init=0.1275, max_iter=40, random_state=0,\n",
       "              solver='sgd', verbose=10)"
      ]
     },
     "execution_count": 39,
     "metadata": {},
     "output_type": "execute_result"
    }
   ],
   "source": [
    "# Create the MLP classifier\n",
    "digit_MLP_model = MLPClassifier(hidden_layer_sizes=(100,), max_iter=40, alpha=1e-4,\n",
    "                    solver='sgd', verbose=10, tol=1e-4, random_state=0,\n",
    "                    learning_rate_init=0.1275)\n",
    "\n",
    "# Train the model using the training sets\n",
    "digit_MLP_model.fit(digit_training_features, digit_training_labels)"
   ]
  },
  {
   "cell_type": "code",
   "execution_count": 40,
   "id": "56602ab0",
   "metadata": {},
   "outputs": [],
   "source": [
    "# digit_training_prediction = getPredictionsMLP(digit_MLP_model, digit_training_features, digit_training_labels, \"Training\")[0]\n",
    "# digit_validation_prediction = getPredictionsMLP(digit_MLP_model, digit_validation_features, digit_validation_labels, \"Validation\")[0]\n",
    "# digit_test_prediction = getPredictionsMLP(digit_MLP_model, digit_test_features, digit_test_labels, \"Test\")[0]"
   ]
  },
  {
   "cell_type": "code",
   "execution_count": 41,
   "id": "d45d99e9",
   "metadata": {},
   "outputs": [
    {
     "name": "stdout",
     "output_type": "stream",
     "text": [
      "Accuracy of MLP on the Training dataset is 100.00 %\n",
      "Accuracy of MLP on the Validation dataset is 93.80 %\n",
      "Accuracy of MLP on the Test dataset is 92.60 %\n"
     ]
    },
    {
     "data": {
      "text/plain": [
       "92.60000000000001"
      ]
     },
     "execution_count": 41,
     "metadata": {},
     "output_type": "execute_result"
    }
   ],
   "source": [
    "predictMLP(digit_MLP_model, digit_training_features, digit_training_labels, \"Training\")\n",
    "predictMLP(digit_MLP_model, digit_validation_features, digit_validation_labels, \"Validation\")\n",
    "predictMLP(digit_MLP_model, digit_test_features, digit_test_labels, \"Test\")"
   ]
  },
  {
   "cell_type": "markdown",
   "id": "bad34f14",
   "metadata": {},
   "source": [
    "## Face dataset"
   ]
  },
  {
   "cell_type": "code",
   "execution_count": 42,
   "id": "e92abe8a",
   "metadata": {},
   "outputs": [
    {
     "name": "stdout",
     "output_type": "stream",
     "text": [
      "Iteration 1, loss = 0.95257749\n",
      "Iteration 2, loss = 0.56092845\n",
      "Iteration 3, loss = 0.42020622\n",
      "Iteration 4, loss = 0.19147887\n",
      "Iteration 5, loss = 0.06426350\n",
      "Iteration 6, loss = 0.01822114\n",
      "Iteration 7, loss = 0.00507939\n",
      "Iteration 8, loss = 0.00185395\n",
      "Iteration 9, loss = 0.00085409\n",
      "Iteration 10, loss = 0.00051271\n",
      "Iteration 11, loss = 0.00036532\n",
      "Iteration 12, loss = 0.00028282\n",
      "Iteration 13, loss = 0.00023805\n",
      "Iteration 14, loss = 0.00020952\n",
      "Iteration 15, loss = 0.00018741\n",
      "Iteration 16, loss = 0.00017552\n",
      "Iteration 17, loss = 0.00016481\n",
      "Iteration 18, loss = 0.00015684\n",
      "Iteration 19, loss = 0.00015166\n",
      "Iteration 20, loss = 0.00014738\n",
      "Iteration 21, loss = 0.00014401\n",
      "Iteration 22, loss = 0.00014136\n",
      "Training loss did not improve more than tol=0.000100 for 10 consecutive epochs. Stopping.\n"
     ]
    },
    {
     "data": {
      "text/html": [
       "<style>#sk-container-id-6 {color: black;background-color: white;}#sk-container-id-6 pre{padding: 0;}#sk-container-id-6 div.sk-toggleable {background-color: white;}#sk-container-id-6 label.sk-toggleable__label {cursor: pointer;display: block;width: 100%;margin-bottom: 0;padding: 0.3em;box-sizing: border-box;text-align: center;}#sk-container-id-6 label.sk-toggleable__label-arrow:before {content: \"▸\";float: left;margin-right: 0.25em;color: #696969;}#sk-container-id-6 label.sk-toggleable__label-arrow:hover:before {color: black;}#sk-container-id-6 div.sk-estimator:hover label.sk-toggleable__label-arrow:before {color: black;}#sk-container-id-6 div.sk-toggleable__content {max-height: 0;max-width: 0;overflow: hidden;text-align: left;background-color: #f0f8ff;}#sk-container-id-6 div.sk-toggleable__content pre {margin: 0.2em;color: black;border-radius: 0.25em;background-color: #f0f8ff;}#sk-container-id-6 input.sk-toggleable__control:checked~div.sk-toggleable__content {max-height: 200px;max-width: 100%;overflow: auto;}#sk-container-id-6 input.sk-toggleable__control:checked~label.sk-toggleable__label-arrow:before {content: \"▾\";}#sk-container-id-6 div.sk-estimator input.sk-toggleable__control:checked~label.sk-toggleable__label {background-color: #d4ebff;}#sk-container-id-6 div.sk-label input.sk-toggleable__control:checked~label.sk-toggleable__label {background-color: #d4ebff;}#sk-container-id-6 input.sk-hidden--visually {border: 0;clip: rect(1px 1px 1px 1px);clip: rect(1px, 1px, 1px, 1px);height: 1px;margin: -1px;overflow: hidden;padding: 0;position: absolute;width: 1px;}#sk-container-id-6 div.sk-estimator {font-family: monospace;background-color: #f0f8ff;border: 1px dotted black;border-radius: 0.25em;box-sizing: border-box;margin-bottom: 0.5em;}#sk-container-id-6 div.sk-estimator:hover {background-color: #d4ebff;}#sk-container-id-6 div.sk-parallel-item::after {content: \"\";width: 100%;border-bottom: 1px solid gray;flex-grow: 1;}#sk-container-id-6 div.sk-label:hover label.sk-toggleable__label {background-color: #d4ebff;}#sk-container-id-6 div.sk-serial::before {content: \"\";position: absolute;border-left: 1px solid gray;box-sizing: border-box;top: 0;bottom: 0;left: 50%;z-index: 0;}#sk-container-id-6 div.sk-serial {display: flex;flex-direction: column;align-items: center;background-color: white;padding-right: 0.2em;padding-left: 0.2em;position: relative;}#sk-container-id-6 div.sk-item {position: relative;z-index: 1;}#sk-container-id-6 div.sk-parallel {display: flex;align-items: stretch;justify-content: center;background-color: white;position: relative;}#sk-container-id-6 div.sk-item::before, #sk-container-id-6 div.sk-parallel-item::before {content: \"\";position: absolute;border-left: 1px solid gray;box-sizing: border-box;top: 0;bottom: 0;left: 50%;z-index: -1;}#sk-container-id-6 div.sk-parallel-item {display: flex;flex-direction: column;z-index: 1;position: relative;background-color: white;}#sk-container-id-6 div.sk-parallel-item:first-child::after {align-self: flex-end;width: 50%;}#sk-container-id-6 div.sk-parallel-item:last-child::after {align-self: flex-start;width: 50%;}#sk-container-id-6 div.sk-parallel-item:only-child::after {width: 0;}#sk-container-id-6 div.sk-dashed-wrapped {border: 1px dashed gray;margin: 0 0.4em 0.5em 0.4em;box-sizing: border-box;padding-bottom: 0.4em;background-color: white;}#sk-container-id-6 div.sk-label label {font-family: monospace;font-weight: bold;display: inline-block;line-height: 1.2em;}#sk-container-id-6 div.sk-label-container {text-align: center;}#sk-container-id-6 div.sk-container {/* jupyter's `normalize.less` sets `[hidden] { display: none; }` but bootstrap.min.css set `[hidden] { display: none !important; }` so we also need the `!important` here to be able to override the default hidden behavior on the sphinx rendered scikit-learn.org. See: https://github.com/scikit-learn/scikit-learn/issues/21755 */display: inline-block !important;position: relative;}#sk-container-id-6 div.sk-text-repr-fallback {display: none;}</style><div id=\"sk-container-id-6\" class=\"sk-top-container\"><div class=\"sk-text-repr-fallback\"><pre>MLPClassifier(learning_rate_init=0.071, max_iter=25, random_state=1,\n",
       "              solver=&#x27;sgd&#x27;, verbose=10)</pre><b>In a Jupyter environment, please rerun this cell to show the HTML representation or trust the notebook. <br />On GitHub, the HTML representation is unable to render, please try loading this page with nbviewer.org.</b></div><div class=\"sk-container\" hidden><div class=\"sk-item\"><div class=\"sk-estimator sk-toggleable\"><input class=\"sk-toggleable__control sk-hidden--visually\" id=\"sk-estimator-id-6\" type=\"checkbox\" checked><label for=\"sk-estimator-id-6\" class=\"sk-toggleable__label sk-toggleable__label-arrow\">MLPClassifier</label><div class=\"sk-toggleable__content\"><pre>MLPClassifier(learning_rate_init=0.071, max_iter=25, random_state=1,\n",
       "              solver=&#x27;sgd&#x27;, verbose=10)</pre></div></div></div></div></div>"
      ],
      "text/plain": [
       "MLPClassifier(learning_rate_init=0.071, max_iter=25, random_state=1,\n",
       "              solver='sgd', verbose=10)"
      ]
     },
     "execution_count": 42,
     "metadata": {},
     "output_type": "execute_result"
    }
   ],
   "source": [
    "# Create the MLP classifier\n",
    "face_MLP_model = MLPClassifier(hidden_layer_sizes=(100,), max_iter=25, alpha=1e-4,\n",
    "                    solver='sgd', verbose=10, tol=1e-4, random_state=1,\n",
    "                    learning_rate_init=0.071)\n",
    "\n",
    "# Train the model using the training sets\n",
    "face_MLP_model.fit(face_training_features, face_training_labels)"
   ]
  },
  {
   "cell_type": "code",
   "execution_count": 43,
   "id": "b03e5f65",
   "metadata": {},
   "outputs": [],
   "source": [
    "# face_training_prediction = getPredictionsMLP(face_MLP_model, face_training_features, face_training_labels, \"Training\")[0]\n",
    "# face_validation_prediction = getPredictionsMLP(face_MLP_model, face_validation_features, face_validation_labels, \"Validation\")[0]\n",
    "# face_test_prediction = getPredictionsMLP(face_MLP_model, face_test_features, face_test_labels, \"Test\")[0]"
   ]
  },
  {
   "cell_type": "code",
   "execution_count": 44,
   "id": "701592c2",
   "metadata": {},
   "outputs": [
    {
     "name": "stdout",
     "output_type": "stream",
     "text": [
      "Accuracy of MLP on the Training dataset is 100.00 %\n",
      "Accuracy of MLP on the Validation dataset is 90.03 %\n",
      "Accuracy of MLP on the Test dataset is 92.00 %\n"
     ]
    },
    {
     "data": {
      "text/plain": [
       "92.0"
      ]
     },
     "execution_count": 44,
     "metadata": {},
     "output_type": "execute_result"
    }
   ],
   "source": [
    "predictMLP(face_MLP_model, face_training_features, face_training_labels, \"Training\")\n",
    "predictMLP(face_MLP_model, face_validation_features, face_validation_labels, \"Validation\")\n",
    "predictMLP(face_MLP_model, face_test_features, face_test_labels, \"Test\")"
   ]
  },
  {
   "cell_type": "markdown",
   "id": "c2b6a1c9",
   "metadata": {},
   "source": [
    "# Support Vector Machine (SVM)"
   ]
  },
  {
   "cell_type": "code",
   "execution_count": 45,
   "id": "0b2c3eaa",
   "metadata": {},
   "outputs": [],
   "source": [
    "def predictSVM(model, data, labels, dataName):\n",
    "    \n",
    "    accuracy = model.score(data, labels) *100\n",
    "    \n",
    "    print (\"Accuracy of SVM on the {}\".format(dataName),\n",
    "           \"dataset is {0:.2f} %\".format(accuracy))\n",
    "    \n",
    "    return accuracy"
   ]
  },
  {
   "cell_type": "code",
   "execution_count": 46,
   "id": "1439d431",
   "metadata": {},
   "outputs": [],
   "source": [
    "def getPredictionsSVM(model, data, labels, dataName):\n",
    "    \n",
    "    prediction = np.array([])\n",
    "    correct_prediction = 0\n",
    "\n",
    "    for i in range(len(data)):\n",
    "        \n",
    "        # Predict Output\n",
    "        predicted = model.predict([data[i]])[0]\n",
    "        prediction = np.append(prediction, predicted)\n",
    "        \n",
    "        if predicted == labels[i]:\n",
    "            correct_prediction += 1\n",
    "        \n",
    "    accuracy = correct_prediction*100/len(data)    \n",
    "    \n",
    "    print (\"Accuracy of SVM on the {}\".format(dataName),\n",
    "           \"dataset is {0:.2f} %\".format(accuracy))\n",
    "    \n",
    "    return  prediction, accuracy"
   ]
  },
  {
   "cell_type": "markdown",
   "id": "c69a1b9b",
   "metadata": {},
   "source": [
    "## Digit dataset"
   ]
  },
  {
   "cell_type": "code",
   "execution_count": 47,
   "id": "9ffbd98e",
   "metadata": {},
   "outputs": [
    {
     "data": {
      "text/html": [
       "<style>#sk-container-id-7 {color: black;background-color: white;}#sk-container-id-7 pre{padding: 0;}#sk-container-id-7 div.sk-toggleable {background-color: white;}#sk-container-id-7 label.sk-toggleable__label {cursor: pointer;display: block;width: 100%;margin-bottom: 0;padding: 0.3em;box-sizing: border-box;text-align: center;}#sk-container-id-7 label.sk-toggleable__label-arrow:before {content: \"▸\";float: left;margin-right: 0.25em;color: #696969;}#sk-container-id-7 label.sk-toggleable__label-arrow:hover:before {color: black;}#sk-container-id-7 div.sk-estimator:hover label.sk-toggleable__label-arrow:before {color: black;}#sk-container-id-7 div.sk-toggleable__content {max-height: 0;max-width: 0;overflow: hidden;text-align: left;background-color: #f0f8ff;}#sk-container-id-7 div.sk-toggleable__content pre {margin: 0.2em;color: black;border-radius: 0.25em;background-color: #f0f8ff;}#sk-container-id-7 input.sk-toggleable__control:checked~div.sk-toggleable__content {max-height: 200px;max-width: 100%;overflow: auto;}#sk-container-id-7 input.sk-toggleable__control:checked~label.sk-toggleable__label-arrow:before {content: \"▾\";}#sk-container-id-7 div.sk-estimator input.sk-toggleable__control:checked~label.sk-toggleable__label {background-color: #d4ebff;}#sk-container-id-7 div.sk-label input.sk-toggleable__control:checked~label.sk-toggleable__label {background-color: #d4ebff;}#sk-container-id-7 input.sk-hidden--visually {border: 0;clip: rect(1px 1px 1px 1px);clip: rect(1px, 1px, 1px, 1px);height: 1px;margin: -1px;overflow: hidden;padding: 0;position: absolute;width: 1px;}#sk-container-id-7 div.sk-estimator {font-family: monospace;background-color: #f0f8ff;border: 1px dotted black;border-radius: 0.25em;box-sizing: border-box;margin-bottom: 0.5em;}#sk-container-id-7 div.sk-estimator:hover {background-color: #d4ebff;}#sk-container-id-7 div.sk-parallel-item::after {content: \"\";width: 100%;border-bottom: 1px solid gray;flex-grow: 1;}#sk-container-id-7 div.sk-label:hover label.sk-toggleable__label {background-color: #d4ebff;}#sk-container-id-7 div.sk-serial::before {content: \"\";position: absolute;border-left: 1px solid gray;box-sizing: border-box;top: 0;bottom: 0;left: 50%;z-index: 0;}#sk-container-id-7 div.sk-serial {display: flex;flex-direction: column;align-items: center;background-color: white;padding-right: 0.2em;padding-left: 0.2em;position: relative;}#sk-container-id-7 div.sk-item {position: relative;z-index: 1;}#sk-container-id-7 div.sk-parallel {display: flex;align-items: stretch;justify-content: center;background-color: white;position: relative;}#sk-container-id-7 div.sk-item::before, #sk-container-id-7 div.sk-parallel-item::before {content: \"\";position: absolute;border-left: 1px solid gray;box-sizing: border-box;top: 0;bottom: 0;left: 50%;z-index: -1;}#sk-container-id-7 div.sk-parallel-item {display: flex;flex-direction: column;z-index: 1;position: relative;background-color: white;}#sk-container-id-7 div.sk-parallel-item:first-child::after {align-self: flex-end;width: 50%;}#sk-container-id-7 div.sk-parallel-item:last-child::after {align-self: flex-start;width: 50%;}#sk-container-id-7 div.sk-parallel-item:only-child::after {width: 0;}#sk-container-id-7 div.sk-dashed-wrapped {border: 1px dashed gray;margin: 0 0.4em 0.5em 0.4em;box-sizing: border-box;padding-bottom: 0.4em;background-color: white;}#sk-container-id-7 div.sk-label label {font-family: monospace;font-weight: bold;display: inline-block;line-height: 1.2em;}#sk-container-id-7 div.sk-label-container {text-align: center;}#sk-container-id-7 div.sk-container {/* jupyter's `normalize.less` sets `[hidden] { display: none; }` but bootstrap.min.css set `[hidden] { display: none !important; }` so we also need the `!important` here to be able to override the default hidden behavior on the sphinx rendered scikit-learn.org. See: https://github.com/scikit-learn/scikit-learn/issues/21755 */display: inline-block !important;position: relative;}#sk-container-id-7 div.sk-text-repr-fallback {display: none;}</style><div id=\"sk-container-id-7\" class=\"sk-top-container\"><div class=\"sk-text-repr-fallback\"><pre>SVC(gamma=&#x27;auto&#x27;)</pre><b>In a Jupyter environment, please rerun this cell to show the HTML representation or trust the notebook. <br />On GitHub, the HTML representation is unable to render, please try loading this page with nbviewer.org.</b></div><div class=\"sk-container\" hidden><div class=\"sk-item\"><div class=\"sk-estimator sk-toggleable\"><input class=\"sk-toggleable__control sk-hidden--visually\" id=\"sk-estimator-id-7\" type=\"checkbox\" checked><label for=\"sk-estimator-id-7\" class=\"sk-toggleable__label sk-toggleable__label-arrow\">SVC</label><div class=\"sk-toggleable__content\"><pre>SVC(gamma=&#x27;auto&#x27;)</pre></div></div></div></div></div>"
      ],
      "text/plain": [
       "SVC(gamma='auto')"
      ]
     },
     "execution_count": 47,
     "metadata": {},
     "output_type": "execute_result"
    }
   ],
   "source": [
    "# Create the SVM classifier\n",
    "digit_SVM_model = SVC(kernel='rbf', gamma='auto')\n",
    "\n",
    "# Train the model using the training sets\n",
    "digit_SVM_model.fit(digit_training_features, digit_training_labels)"
   ]
  },
  {
   "cell_type": "code",
   "execution_count": 48,
   "id": "64711dfc",
   "metadata": {},
   "outputs": [],
   "source": [
    "# digit_training_prediction = getPredictionsSVM(digit_SVM_model, digit_training_features, digit_training_labels, \"Training\")[0]\n",
    "# digit_validation_prediction = getPredictionsSVM(digit_SVM_model, digit_validation_features, digit_validation_labels, \"Validation\")[0]\n",
    "# digit_test_prediction = getPredictionsSVM(digit_SVM_model, digit_test_features, digit_test_labels, \"Test\")[0]"
   ]
  },
  {
   "cell_type": "code",
   "execution_count": 49,
   "id": "db7c92c7",
   "metadata": {},
   "outputs": [
    {
     "name": "stdout",
     "output_type": "stream",
     "text": [
      "Accuracy of SVM on the Training dataset is 96.40 %\n",
      "Accuracy of SVM on the Validation dataset is 91.50 %\n",
      "Accuracy of SVM on the Test dataset is 90.30 %\n"
     ]
    },
    {
     "data": {
      "text/plain": [
       "90.3"
      ]
     },
     "execution_count": 49,
     "metadata": {},
     "output_type": "execute_result"
    }
   ],
   "source": [
    "predictSVM(digit_SVM_model, digit_training_features, digit_training_labels, \"Training\")\n",
    "predictSVM(digit_SVM_model, digit_validation_features, digit_validation_labels, \"Validation\")\n",
    "predictSVM(digit_SVM_model, digit_test_features, digit_test_labels, \"Test\")"
   ]
  },
  {
   "cell_type": "markdown",
   "id": "226dd12b",
   "metadata": {},
   "source": [
    "## Face dataset"
   ]
  },
  {
   "cell_type": "code",
   "execution_count": 50,
   "id": "57cd14ca",
   "metadata": {},
   "outputs": [
    {
     "name": "stdout",
     "output_type": "stream",
     "text": [
      "Accuracy of SVM on the Training dataset is 99.78 %\n",
      "Accuracy of SVM on the Validation dataset is 91.69 %\n",
      "Accuracy of SVM on the Test dataset is 92.00 %\n"
     ]
    },
    {
     "data": {
      "text/plain": [
       "92.0"
      ]
     },
     "execution_count": 50,
     "metadata": {},
     "output_type": "execute_result"
    }
   ],
   "source": [
    "# Create the SVM classifier\n",
    "face_SVM_model = SVC(kernel='rbf', gamma='auto')\n",
    "\n",
    "# Train the model using the training sets\n",
    "face_SVM_model.fit(face_training_features, face_training_labels)\n",
    "\n",
    "predictSVM(face_SVM_model, face_training_features, face_training_labels, \"Training\")\n",
    "predictSVM(face_SVM_model, face_validation_features, face_validation_labels, \"Validation\")\n",
    "predictSVM(face_SVM_model, face_test_features, face_test_labels, \"Test\")"
   ]
  },
  {
   "cell_type": "code",
   "execution_count": 51,
   "id": "5d9a4f45",
   "metadata": {},
   "outputs": [],
   "source": [
    "# face_training_prediction = getPredictionsSVM(face_SVM_model, face_training_features, face_training_labels, \"Training\")[0]\n",
    "# face_validation_prediction = getPredictionsSVM(face_SVM_model, face_validation_features, face_validation_labels, \"Validation\")[0]\n",
    "# face_test_prediction = getPredictionsSVM(face_SVM_model, face_test_features, face_test_labels, \"Test\")[0]"
   ]
  },
  {
   "cell_type": "code",
   "execution_count": 52,
   "id": "37ce1477",
   "metadata": {},
   "outputs": [
    {
     "name": "stdout",
     "output_type": "stream",
     "text": [
      "Accuracy of SVM on the Training dataset is 99.78 %\n",
      "Accuracy of SVM on the Validation dataset is 91.69 %\n",
      "Accuracy of SVM on the Test dataset is 92.00 %\n"
     ]
    },
    {
     "data": {
      "text/plain": [
       "92.0"
      ]
     },
     "execution_count": 52,
     "metadata": {},
     "output_type": "execute_result"
    }
   ],
   "source": [
    "predictSVM(face_SVM_model, face_training_features, face_training_labels, \"Training\")\n",
    "predictSVM(face_SVM_model, face_validation_features, face_validation_labels, \"Validation\")\n",
    "predictSVM(face_SVM_model, face_test_features, face_test_labels, \"Test\")"
   ]
  },
  {
   "cell_type": "markdown",
   "id": "bb45fe28",
   "metadata": {},
   "source": [
    "# Decision Tree (DT)"
   ]
  },
  {
   "cell_type": "markdown",
   "id": "a0173a60",
   "metadata": {},
   "source": [
    "## Digit dataset"
   ]
  },
  {
   "cell_type": "code",
   "execution_count": 83,
   "id": "3556d721",
   "metadata": {},
   "outputs": [
    {
     "name": "stdout",
     "output_type": "stream",
     "text": [
      "Accuracy of the Decision Tree on the Training dataset is 100.00 %\n",
      "Accuracy of the Decision Tree on the Validation dataset is 74.80 %\n",
      "Accuracy of the Decision Tree on the Test dataset is 73.00 %\n"
     ]
    },
    {
     "data": {
      "text/plain": [
       "73.0"
      ]
     },
     "execution_count": 83,
     "metadata": {},
     "output_type": "execute_result"
    }
   ],
   "source": [
    "# Create the Decision Tree classifier\n",
    "digit_DT_model = DecisionTreeClassifier()\n",
    "\n",
    "# Train the model using the training sets\n",
    "digit_DT_model.fit(digit_training_features, digit_training_labels)\n",
    "\n",
    "predictModel(digit_DT_model, digit_training_features, digit_training_labels, \"Training\", \"Decision Tree\")\n",
    "predictModel(digit_DT_model, digit_validation_features, digit_validation_labels, \"Validation\", \"Decision Tree\")\n",
    "predictModel(digit_DT_model, digit_test_features, digit_test_labels, \"Test\", \"Decision Tree\")"
   ]
  },
  {
   "cell_type": "code",
   "execution_count": 84,
   "id": "a99538d5",
   "metadata": {},
   "outputs": [],
   "source": [
    "# params =  {\n",
    "#     'max_depth': list(range(1, 51)) + ['None'],\n",
    "#     'max_features': list(range(1, 51)) + ['None']\n",
    "# }\n",
    "# n_jobs= os.cpu_count()\n",
    "# grid = GridSearchCV(estimator=DecisionTreeClassifier(),\n",
    "#                     param_grid=params,\n",
    "#                     cv=10,\n",
    "#                     n_jobs= n_jobs,\n",
    "#                     verbose=2)"
   ]
  },
  {
   "cell_type": "code",
   "execution_count": 85,
   "id": "62d58a3c",
   "metadata": {},
   "outputs": [],
   "source": [
    "# grid.fit(digit_training_features, digit_training_labels)"
   ]
  },
  {
   "cell_type": "code",
   "execution_count": 86,
   "id": "ca6c1596",
   "metadata": {},
   "outputs": [],
   "source": [
    "# grid.best_score_, grid.best_params_"
   ]
  },
  {
   "cell_type": "code",
   "execution_count": 58,
   "id": "e55c3248",
   "metadata": {},
   "outputs": [],
   "source": [
    "# digit_training_prediction = getModelPredictions(digit_DT_model, digit_training_features, digit_training_labels, \"Training\", \"Decision Tree\")[0]\n",
    "# digit_validation_prediction = getModelPredictions(digit_DT_model, digit_validation_features, digit_validation_labels, \"Validation\", \"Decision Tree\")[0]\n",
    "# digit_test_prediction = getModelPredictions(digit_DT_model, digit_test_features, digit_test_labels, \"Test\", \"Decision Tree\")[0]"
   ]
  },
  {
   "cell_type": "code",
   "execution_count": 59,
   "id": "237dc25e",
   "metadata": {},
   "outputs": [
    {
     "name": "stdout",
     "output_type": "stream",
     "text": [
      "Accuracy of the Decision Tree on the Training dataset is 70.20 %\n",
      "Accuracy of the Decision Tree on the Validation dataset is 64.70 %\n",
      "Accuracy of the Decision Tree on the Test dataset is 60.40 %\n"
     ]
    },
    {
     "data": {
      "text/plain": [
       "60.4"
      ]
     },
     "execution_count": 59,
     "metadata": {},
     "output_type": "execute_result"
    }
   ],
   "source": [
    "predictModel(digit_DT_model, digit_training_features, digit_training_labels, \"Training\", \"Decision Tree\")\n",
    "predictModel(digit_DT_model, digit_validation_features, digit_validation_labels, \"Validation\", \"Decision Tree\")\n",
    "predictModel(digit_DT_model, digit_test_features, digit_test_labels, \"Test\", \"Decision Tree\")"
   ]
  },
  {
   "cell_type": "markdown",
   "id": "708f32fe",
   "metadata": {},
   "source": [
    "## Face dataset"
   ]
  },
  {
   "cell_type": "code",
   "execution_count": 87,
   "id": "8e3b7879",
   "metadata": {},
   "outputs": [
    {
     "data": {
      "text/html": [
       "<style>#sk-container-id-9 {color: black;background-color: white;}#sk-container-id-9 pre{padding: 0;}#sk-container-id-9 div.sk-toggleable {background-color: white;}#sk-container-id-9 label.sk-toggleable__label {cursor: pointer;display: block;width: 100%;margin-bottom: 0;padding: 0.3em;box-sizing: border-box;text-align: center;}#sk-container-id-9 label.sk-toggleable__label-arrow:before {content: \"▸\";float: left;margin-right: 0.25em;color: #696969;}#sk-container-id-9 label.sk-toggleable__label-arrow:hover:before {color: black;}#sk-container-id-9 div.sk-estimator:hover label.sk-toggleable__label-arrow:before {color: black;}#sk-container-id-9 div.sk-toggleable__content {max-height: 0;max-width: 0;overflow: hidden;text-align: left;background-color: #f0f8ff;}#sk-container-id-9 div.sk-toggleable__content pre {margin: 0.2em;color: black;border-radius: 0.25em;background-color: #f0f8ff;}#sk-container-id-9 input.sk-toggleable__control:checked~div.sk-toggleable__content {max-height: 200px;max-width: 100%;overflow: auto;}#sk-container-id-9 input.sk-toggleable__control:checked~label.sk-toggleable__label-arrow:before {content: \"▾\";}#sk-container-id-9 div.sk-estimator input.sk-toggleable__control:checked~label.sk-toggleable__label {background-color: #d4ebff;}#sk-container-id-9 div.sk-label input.sk-toggleable__control:checked~label.sk-toggleable__label {background-color: #d4ebff;}#sk-container-id-9 input.sk-hidden--visually {border: 0;clip: rect(1px 1px 1px 1px);clip: rect(1px, 1px, 1px, 1px);height: 1px;margin: -1px;overflow: hidden;padding: 0;position: absolute;width: 1px;}#sk-container-id-9 div.sk-estimator {font-family: monospace;background-color: #f0f8ff;border: 1px dotted black;border-radius: 0.25em;box-sizing: border-box;margin-bottom: 0.5em;}#sk-container-id-9 div.sk-estimator:hover {background-color: #d4ebff;}#sk-container-id-9 div.sk-parallel-item::after {content: \"\";width: 100%;border-bottom: 1px solid gray;flex-grow: 1;}#sk-container-id-9 div.sk-label:hover label.sk-toggleable__label {background-color: #d4ebff;}#sk-container-id-9 div.sk-serial::before {content: \"\";position: absolute;border-left: 1px solid gray;box-sizing: border-box;top: 0;bottom: 0;left: 50%;z-index: 0;}#sk-container-id-9 div.sk-serial {display: flex;flex-direction: column;align-items: center;background-color: white;padding-right: 0.2em;padding-left: 0.2em;position: relative;}#sk-container-id-9 div.sk-item {position: relative;z-index: 1;}#sk-container-id-9 div.sk-parallel {display: flex;align-items: stretch;justify-content: center;background-color: white;position: relative;}#sk-container-id-9 div.sk-item::before, #sk-container-id-9 div.sk-parallel-item::before {content: \"\";position: absolute;border-left: 1px solid gray;box-sizing: border-box;top: 0;bottom: 0;left: 50%;z-index: -1;}#sk-container-id-9 div.sk-parallel-item {display: flex;flex-direction: column;z-index: 1;position: relative;background-color: white;}#sk-container-id-9 div.sk-parallel-item:first-child::after {align-self: flex-end;width: 50%;}#sk-container-id-9 div.sk-parallel-item:last-child::after {align-self: flex-start;width: 50%;}#sk-container-id-9 div.sk-parallel-item:only-child::after {width: 0;}#sk-container-id-9 div.sk-dashed-wrapped {border: 1px dashed gray;margin: 0 0.4em 0.5em 0.4em;box-sizing: border-box;padding-bottom: 0.4em;background-color: white;}#sk-container-id-9 div.sk-label label {font-family: monospace;font-weight: bold;display: inline-block;line-height: 1.2em;}#sk-container-id-9 div.sk-label-container {text-align: center;}#sk-container-id-9 div.sk-container {/* jupyter's `normalize.less` sets `[hidden] { display: none; }` but bootstrap.min.css set `[hidden] { display: none !important; }` so we also need the `!important` here to be able to override the default hidden behavior on the sphinx rendered scikit-learn.org. See: https://github.com/scikit-learn/scikit-learn/issues/21755 */display: inline-block !important;position: relative;}#sk-container-id-9 div.sk-text-repr-fallback {display: none;}</style><div id=\"sk-container-id-9\" class=\"sk-top-container\"><div class=\"sk-text-repr-fallback\"><pre>DecisionTreeClassifier()</pre><b>In a Jupyter environment, please rerun this cell to show the HTML representation or trust the notebook. <br />On GitHub, the HTML representation is unable to render, please try loading this page with nbviewer.org.</b></div><div class=\"sk-container\" hidden><div class=\"sk-item\"><div class=\"sk-estimator sk-toggleable\"><input class=\"sk-toggleable__control sk-hidden--visually\" id=\"sk-estimator-id-9\" type=\"checkbox\" checked><label for=\"sk-estimator-id-9\" class=\"sk-toggleable__label sk-toggleable__label-arrow\">DecisionTreeClassifier</label><div class=\"sk-toggleable__content\"><pre>DecisionTreeClassifier()</pre></div></div></div></div></div>"
      ],
      "text/plain": [
       "DecisionTreeClassifier()"
      ]
     },
     "execution_count": 87,
     "metadata": {},
     "output_type": "execute_result"
    }
   ],
   "source": [
    "# Create the Decision Tree classifier\n",
    "face_DT_model = DecisionTreeClassifier()\n",
    "\n",
    "# Train the model using the training sets\n",
    "face_DT_model.fit(face_training_features, face_training_labels)"
   ]
  },
  {
   "cell_type": "code",
   "execution_count": 61,
   "id": "44123e92",
   "metadata": {},
   "outputs": [],
   "source": [
    "# face_training_prediction = getModelPredictions(face_DT_model, face_training_features, face_training_labels, \"Training\", \"Decision Tree\")[0]\n",
    "# face_validation_prediction = getModelPredictions(face_DT_model, face_validation_features, face_validation_labels, \"Validation\", \"Decision Tree\")[0]\n",
    "# face_test_prediction = getModelPredictions(face_DT_model, face_test_features, face_test_labels, \"Test\", \"Decision Tree\")[0]"
   ]
  },
  {
   "cell_type": "code",
   "execution_count": 88,
   "id": "1b7fd481",
   "metadata": {},
   "outputs": [
    {
     "name": "stdout",
     "output_type": "stream",
     "text": [
      "Accuracy of the Decision Tree on the Training dataset is 100.00 %\n",
      "Accuracy of the Decision Tree on the Validation dataset is 75.42 %\n",
      "Accuracy of the Decision Tree on the Test dataset is 70.00 %\n"
     ]
    },
    {
     "data": {
      "text/plain": [
       "70.0"
      ]
     },
     "execution_count": 88,
     "metadata": {},
     "output_type": "execute_result"
    }
   ],
   "source": [
    "predictModel(face_DT_model, face_training_features, face_training_labels, \"Training\", \"Decision Tree\")\n",
    "predictModel(face_DT_model, face_validation_features, face_validation_labels, \"Validation\", \"Decision Tree\")\n",
    "predictModel(face_DT_model, face_test_features, face_test_labels, \"Test\", \"Decision Tree\")"
   ]
  },
  {
   "cell_type": "code",
   "execution_count": 63,
   "id": "f08ba962",
   "metadata": {},
   "outputs": [],
   "source": [
    "# n = 4\n",
    "# print(face_training_items[n])\n",
    "# print(len(face_training_items))\n",
    "\n",
    "# #Predict Output\n",
    "# predicted= face_NB_model.predict([face_training_features[n]])[0]\n",
    "# print (\"Predicted Value:\", predicted)"
   ]
  },
  {
   "cell_type": "code",
   "execution_count": 64,
   "id": "33159c1d",
   "metadata": {},
   "outputs": [],
   "source": [
    "# n = 4\n",
    "# print(face_validation_items[n])\n",
    "# print(len(face_validation_items))\n",
    "\n",
    "# #Predict Output\n",
    "# predicted= face_NB_model.predict([face_validation_features[n]])[0]\n",
    "# print (\"Predicted Value:\", predicted)"
   ]
  },
  {
   "cell_type": "code",
   "execution_count": 65,
   "id": "04b6e9b8",
   "metadata": {},
   "outputs": [],
   "source": [
    "# n = 16\n",
    "# print(face_test_items[n])\n",
    "# print(len(face_test_items))\n",
    "\n",
    "# #Predict Output\n",
    "# predicted= face_NB_model.predict([face_test_features[n]])[0]\n",
    "# print (\"Predicted Value:\", predicted)"
   ]
  },
  {
   "cell_type": "code",
   "execution_count": 66,
   "id": "7a0f80f3",
   "metadata": {},
   "outputs": [],
   "source": [
    "# n = 2\n",
    "# print(digit_training_items[n])\n",
    "# print(len(digit_training_items))\n",
    "\n",
    "# #Predict Output\n",
    "# predicted= digit_NB_model.predict([digit_training_features[n]])[0]\n",
    "# print (\"Predicted Value:\", predicted)"
   ]
  },
  {
   "cell_type": "code",
   "execution_count": 67,
   "id": "4160e673",
   "metadata": {},
   "outputs": [],
   "source": [
    "# n = 1\n",
    "# print(digit_validation_items[n])\n",
    "# print(len(digit_validation_items))\n",
    "\n",
    "# #Predict Output\n",
    "# predicted= digit_NB_model.predict([digit_validation_features[n]])[0]\n",
    "# print (\"Predicted Value:\", predicted)"
   ]
  },
  {
   "cell_type": "code",
   "execution_count": 68,
   "id": "fff2246e",
   "metadata": {},
   "outputs": [],
   "source": [
    "# n = 4\n",
    "# print(digit_test_items[n])\n",
    "# print(len(digit_test_items))\n",
    "\n",
    "# # Predict Output\n",
    "# predicted= digit_NB_model.predict([digit_test_features[n]])[0]\n",
    "# print (\"Predicted Value:\", predicted)"
   ]
  },
  {
   "cell_type": "code",
   "execution_count": 69,
   "id": "e11a86b4",
   "metadata": {},
   "outputs": [],
   "source": [
    "# pca_reduction = PCA(n_components=1)\n",
    "# pca_reduction.fit(training_features)\n",
    "# training_features_pca = pca_reduction.transform(training_features)\n",
    "# new_training_features = pca_reduction.inverse_transform(training_features_pca)\n",
    "# training_prediction = predictNaiveBayes(new_training_features, training_labels, \"Training\")"
   ]
  },
  {
   "cell_type": "code",
   "execution_count": 70,
   "id": "78a7b530",
   "metadata": {
    "scrolled": true
   },
   "outputs": [],
   "source": [
    "# def _test():\n",
    "#     doctest.testmod() # Test the interactive sessions in function comments\n",
    "    \n",
    "#     n = 451 # face data limit\n",
    "#     items = fixFaceDataset(loadDataFile(\"./data/facedata/facedatatrain\", n,60,70))\n",
    "#     labels = loadLabelsFile(\"./data/facedata/facedatatrainlabels\", n)\n",
    "\n",
    "# #     n = 5000 # digit data limit\n",
    "# #     items = loadDataFile(\"./data/digitdata/trainingimages\", n,28,28)\n",
    "# #     labels = loadLabelsFile(\"./data/digitdata/traininglabels\", n)\n",
    "\n",
    "    \n",
    "# #     for i in range(1):\n",
    "# #         print (items[i].getAsciiString())\n",
    "# #         print (items[i])\n",
    "# #         print (items[i].height)\n",
    "# #         print (items[i].width)\n",
    "# #         print (dir(items[i]))\n",
    "# #         print ((items[i].getPixels()))\n",
    "# #         print (len(items[i].getPixels()))\n",
    "\n",
    "    \n",
    "# _test()"
   ]
  },
  {
   "cell_type": "code",
   "execution_count": 71,
   "id": "00c6b5ca",
   "metadata": {},
   "outputs": [],
   "source": [
    "# def pca_feature(feature):\n",
    "# #     print(feature)\n",
    "#     pca_reduction = PCA(n_components=1)\n",
    "#     pca_reduction.fit(feature)\n",
    "#     feature_pca = pca_reduction.transform(feature)\n",
    "#     print(feature_pca.shape)\n",
    "# #     new_feature = pca_reduction.inverse_transform(feature_pca)\n",
    "# #     print(new_feature)\n",
    "#     return feature_pca"
   ]
  }
 ],
 "metadata": {
  "kernelspec": {
   "display_name": "Python 3 (ipykernel)",
   "language": "python",
   "name": "python3"
  },
  "language_info": {
   "codemirror_mode": {
    "name": "ipython",
    "version": 3
   },
   "file_extension": ".py",
   "mimetype": "text/x-python",
   "name": "python",
   "nbconvert_exporter": "python",
   "pygments_lexer": "ipython3",
   "version": "3.9.13"
  }
 },
 "nbformat": 4,
 "nbformat_minor": 5
}
